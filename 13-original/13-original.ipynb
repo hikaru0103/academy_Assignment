{
 "cells": [
  {
   "cell_type": "markdown",
   "id": "481c372e",
   "metadata": {},
   "source": [
    "# ・米国の中古車の価格について  \n",
    "\n",
    "### 各車の中古車価格の関係性を分析していきます。\n",
    "参考:各車のメーカー、モデル、年式、走行距離、価格、色、州、および日付がランダムに含まれていて、\n",
    "現在の日付と 1 年後の間で予測データが生成されています(https://www.kaggle.com/datasets/at3191/us-car-prices?resource=download)"
   ]
  },
  {
   "cell_type": "code",
   "execution_count": 1,
   "id": "7cdb7790",
   "metadata": {},
   "outputs": [],
   "source": [
    "# 必要なライブラリのインポート\n",
    "import pandas as pd\n",
    "import matplotlib as mlp\n",
    "import matplotlib.pyplot as plt\n",
    "import numpy as np\n",
    "import scipy as sp\n",
    "import seaborn as sns\n",
    "import statsmodels.formula.api as smf\n",
    "import statsmodels.api as sm\n",
    "\n",
    "%matplotlib inline\n",
    "sns.set()"
   ]
  },
  {
   "cell_type": "markdown",
   "id": "ce3830fe",
   "metadata": {},
   "source": [
    "## 1.データの読み込み、表示"
   ]
  },
  {
   "cell_type": "code",
   "execution_count": 2,
   "id": "1352553e",
   "metadata": {},
   "outputs": [
    {
     "data": {
      "text/html": [
       "<div>\n",
       "<style scoped>\n",
       "    .dataframe tbody tr th:only-of-type {\n",
       "        vertical-align: middle;\n",
       "    }\n",
       "\n",
       "    .dataframe tbody tr th {\n",
       "        vertical-align: top;\n",
       "    }\n",
       "\n",
       "    .dataframe thead th {\n",
       "        text-align: right;\n",
       "    }\n",
       "</style>\n",
       "<table border=\"1\" class=\"dataframe\">\n",
       "  <thead>\n",
       "    <tr style=\"text-align: right;\">\n",
       "      <th></th>\n",
       "      <th>make</th>\n",
       "      <th>model</th>\n",
       "      <th>year</th>\n",
       "      <th>mileage</th>\n",
       "      <th>price</th>\n",
       "      <th>color</th>\n",
       "      <th>state</th>\n",
       "      <th>date</th>\n",
       "    </tr>\n",
       "  </thead>\n",
       "  <tbody>\n",
       "    <tr>\n",
       "      <th>0</th>\n",
       "      <td>Chevrolet</td>\n",
       "      <td>Cruze</td>\n",
       "      <td>2011</td>\n",
       "      <td>99157</td>\n",
       "      <td>37488</td>\n",
       "      <td>white</td>\n",
       "      <td>TX</td>\n",
       "      <td>2023-09-26 23:02:01.647970</td>\n",
       "    </tr>\n",
       "    <tr>\n",
       "      <th>1</th>\n",
       "      <td>Toyota</td>\n",
       "      <td>Cruze</td>\n",
       "      <td>2017</td>\n",
       "      <td>19882</td>\n",
       "      <td>34176</td>\n",
       "      <td>red</td>\n",
       "      <td>IL</td>\n",
       "      <td>2023-08-08 23:02:01.648413</td>\n",
       "    </tr>\n",
       "    <tr>\n",
       "      <th>2</th>\n",
       "      <td>Chevrolet</td>\n",
       "      <td>Altima</td>\n",
       "      <td>2011</td>\n",
       "      <td>77718</td>\n",
       "      <td>40297</td>\n",
       "      <td>blue</td>\n",
       "      <td>CA</td>\n",
       "      <td>2023-02-25 23:02:01.648422</td>\n",
       "    </tr>\n",
       "    <tr>\n",
       "      <th>3</th>\n",
       "      <td>Nissan</td>\n",
       "      <td>Fusion</td>\n",
       "      <td>2012</td>\n",
       "      <td>83613</td>\n",
       "      <td>43492</td>\n",
       "      <td>silver</td>\n",
       "      <td>TX</td>\n",
       "      <td>2023-04-25 23:02:01.648425</td>\n",
       "    </tr>\n",
       "    <tr>\n",
       "      <th>4</th>\n",
       "      <td>Ford</td>\n",
       "      <td>Cruze</td>\n",
       "      <td>2016</td>\n",
       "      <td>95349</td>\n",
       "      <td>26655</td>\n",
       "      <td>red</td>\n",
       "      <td>NY</td>\n",
       "      <td>2023-12-14 23:02:01.648426</td>\n",
       "    </tr>\n",
       "  </tbody>\n",
       "</table>\n",
       "</div>"
      ],
      "text/plain": [
       "        make   model  year  mileage  price   color state  \\\n",
       "0  Chevrolet   Cruze  2011    99157  37488   white    TX   \n",
       "1     Toyota   Cruze  2017    19882  34176     red    IL   \n",
       "2  Chevrolet  Altima  2011    77718  40297    blue    CA   \n",
       "3     Nissan  Fusion  2012    83613  43492  silver    TX   \n",
       "4       Ford   Cruze  2016    95349  26655     red    NY   \n",
       "\n",
       "                         date  \n",
       "0  2023-09-26 23:02:01.647970  \n",
       "1  2023-08-08 23:02:01.648413  \n",
       "2  2023-02-25 23:02:01.648422  \n",
       "3  2023-04-25 23:02:01.648425  \n",
       "4  2023-12-14 23:02:01.648426  "
      ]
     },
     "execution_count": 2,
     "metadata": {},
     "output_type": "execute_result"
    }
   ],
   "source": [
    "data = pd.read_csv('dataset/car_prices.csv')\n",
    "data.head()"
   ]
  },
  {
   "cell_type": "markdown",
   "id": "a9f17461",
   "metadata": {},
   "source": [
    "## 2.**make、color、全体**の平均価格"
   ]
  },
  {
   "cell_type": "code",
   "execution_count": 17,
   "id": "0147e391",
   "metadata": {},
   "outputs": [
    {
     "name": "stdout",
     "output_type": "stream",
     "text": [
      "make T: 29944.18446601942\n",
      "make N: 29580.183035714286\n",
      "make C: 28676.253588516745\n",
      "make F: 29929.14438502674\n",
      "make H: 28687.77011494253\n"
     ]
    }
   ],
   "source": [
    "# make別の平均\n",
    "me_make_T = np.mean(data.query('make == \"Toyota\"')['price'])\n",
    "me_make_N = np.mean(data.query('make == \"Nissan\"')['price'])\n",
    "me_make_C = np.mean(data.query('make == \"Chevrolet\"')['price'])\n",
    "me_make_F = np.mean(data.query('make == \"Ford\"')['price'])\n",
    "me_make_H = np.mean(data.query('make == \"Honda\"')['price'])\n",
    "print('make T:', me_make_T)\n",
    "print('make N:', me_make_N)\n",
    "print('make C:', me_make_C)\n",
    "print('make F:', me_make_F)\n",
    "print('make H:', me_make_H)"
   ]
  },
  {
   "cell_type": "code",
   "execution_count": 18,
   "id": "1ba8d9be",
   "metadata": {},
   "outputs": [
    {
     "name": "stdout",
     "output_type": "stream",
     "text": [
      "color w: 29080.9587628866\n",
      "color r: 30145.058536585366\n",
      "color bu: 29007.671875\n",
      "color s: 29693.963470319635\n",
      "color bl: 28854.35789473684\n"
     ]
    }
   ],
   "source": [
    "# color別の平均\n",
    "me_color_w = np.mean(data.query('color == \"white\"')['price'])\n",
    "me_color_r = np.mean(data.query('color == \"red\"')['price'])\n",
    "me_color_bu = np.mean(data.query('color == \"blue\"')['price'])\n",
    "me_color_s = np.mean(data.query('color == \"silver\"')['price'])\n",
    "me_color_bl = np.mean(data.query('color == \"black\"')['price'])\n",
    "print('color w:', me_color_w)\n",
    "print('color r:', me_color_r)\n",
    "print('color bu:', me_color_bu)\n",
    "print('color s:', me_color_s)\n",
    "print('color bl:', me_color_bl)"
   ]
  },
  {
   "cell_type": "code",
   "execution_count": 19,
   "id": "ace7c26c",
   "metadata": {},
   "outputs": [
    {
     "data": {
      "text/plain": [
       "29376.222"
      ]
     },
     "execution_count": 19,
     "metadata": {},
     "output_type": "execute_result"
    }
   ],
   "source": [
    "# 全体の平均\n",
    "mu_all = np.mean(data['price'])\n",
    "mu_all"
   ]
  },
  {
   "cell_type": "markdown",
   "id": "18e5a55a",
   "metadata": {},
   "source": [
    "## 3.**make、color**のデータ数の確認"
   ]
  },
  {
   "cell_type": "code",
   "execution_count": 20,
   "id": "9c71a577",
   "metadata": {},
   "outputs": [
    {
     "name": "stdout",
     "output_type": "stream",
     "text": [
      "data_T: 2060\n",
      "data_N: 2240\n",
      "data_C: 2090\n",
      "data_F: 1870\n",
      "data_H: 1740\n"
     ]
    }
   ],
   "source": [
    "# make別のデータ数の確認\n",
    "data_T = data.query('make == \"Toyota\"')['price']\n",
    "print('data_T:',data_T.count())\n",
    "data_N = data.query('make == \"Nissan\"')['price']\n",
    "print('data_N:',data_N.count())\n",
    "data_C = data.query('make == \"Chevrolet\"')['price']\n",
    "print('data_C:',data_C.count())\n",
    "data_F = data.query('make == \"Ford\"')['price']\n",
    "print('data_F:',data_F.count())\n",
    "data_H = data.query('make == \"Honda\"')['price']\n",
    "print('data_H:',data_H.count())"
   ]
  },
  {
   "cell_type": "code",
   "execution_count": 7,
   "id": "bfb4aedf",
   "metadata": {},
   "outputs": [
    {
     "name": "stdout",
     "output_type": "stream",
     "text": [
      "data_w: 1940\n",
      "data_r: 2050\n",
      "data_bu: 1920\n",
      "data_s: 2190\n",
      "data_bl: 1900\n"
     ]
    }
   ],
   "source": [
    "# color別のデータ数の確認\n",
    "data_w = data.query('color == \"white\"')['price']\n",
    "print('data_w:',data_w.count())\n",
    "data_r = data.query('color == \"red\"')['price']\n",
    "print('data_r:',data_r.count())\n",
    "data_bu = data.query('color == \"blue\"')['price']\n",
    "print('data_bu:',data_bu.count())\n",
    "data_s = data.query('color == \"silver\"')['price']\n",
    "print('data_s:',data_s.count())\n",
    "data_bl = data.query('color == \"black\"')['price']\n",
    "print('data_bl:',data_bl.count())"
   ]
  },
  {
   "cell_type": "markdown",
   "id": "1889541a",
   "metadata": {},
   "source": [
    "## 4.**全体、make、color、誤差**の平方和を求める"
   ]
  },
  {
   "cell_type": "code",
   "execution_count": 8,
   "id": "6510172d",
   "metadata": {},
   "outputs": [
    {
     "data": {
      "text/plain": [
       "1359504242087.1602"
      ]
     },
     "execution_count": 8,
     "metadata": {},
     "output_type": "execute_result"
    }
   ],
   "source": [
    "# 全体の平方和\n",
    "squares_all2 = np.sum((data['price']-mu_all)**2)\n",
    "squares_all2"
   ]
  },
  {
   "cell_type": "code",
   "execution_count": 9,
   "id": "7bc0201b",
   "metadata": {},
   "outputs": [
    {
     "data": {
      "text/plain": [
       "3178112567.6416283"
      ]
     },
     "execution_count": 9,
     "metadata": {},
     "output_type": "execute_result"
    }
   ],
   "source": [
    "# makeの平方和\n",
    "make = [me_make_T]*2060 + [me_make_N]*2240 + [me_make_C]*2090 + [me_make_F]*1870 + [me_make_H]*1740\n",
    "make = np.array(make)\n",
    "\n",
    "squares_make = np.sum((make-mu_all)**2)\n",
    "squares_make"
   ]
  },
  {
   "cell_type": "code",
   "execution_count": 10,
   "id": "98e4451d",
   "metadata": {},
   "outputs": [
    {
     "data": {
      "text/plain": [
       "2380248400.492907"
      ]
     },
     "execution_count": 10,
     "metadata": {},
     "output_type": "execute_result"
    }
   ],
   "source": [
    "# colorの平方和\n",
    "color = [me_color_w]*1940 + [me_color_r]*2050 + [me_color_bu]*1920 + [me_color_s]*2190 + [me_color_bl]*1900\n",
    "color = np.array(color)\n",
    "\n",
    "squares_color = np.sum((color-mu_all)**2)\n",
    "squares_color"
   ]
  },
  {
   "cell_type": "code",
   "execution_count": 11,
   "id": "03f9362a",
   "metadata": {},
   "outputs": [
    {
     "data": {
      "text/plain": [
       "1353945881119.0256"
      ]
     },
     "execution_count": 11,
     "metadata": {},
     "output_type": "execute_result"
    }
   ],
   "source": [
    "# 誤差の平方和\n",
    "squares_resid2 = squares_all2 - squares_make - squares_color\n",
    "squares_resid2"
   ]
  },
  {
   "cell_type": "markdown",
   "id": "b998d7be",
   "metadata": {},
   "source": [
    "## 5.各種の**自由度**を求める"
   ]
  },
  {
   "cell_type": "code",
   "execution_count": 12,
   "id": "cde4e028",
   "metadata": {},
   "outputs": [],
   "source": [
    "# makeの自由度\n",
    "df_make = 4\n",
    "# colorの自由度\n",
    "df_color = 4\n",
    "# 誤差の自由度\n",
    "df_resid = 9991"
   ]
  },
  {
   "cell_type": "markdown",
   "id": "fcdbe3cf",
   "metadata": {},
   "source": [
    "## 6.**make、color、誤差**の分散を求める"
   ]
  },
  {
   "cell_type": "code",
   "execution_count": 13,
   "id": "02450c5b",
   "metadata": {},
   "outputs": [
    {
     "data": {
      "text/plain": [
       "794528141.9104071"
      ]
     },
     "execution_count": 13,
     "metadata": {},
     "output_type": "execute_result"
    }
   ],
   "source": [
    "# makeの分散\n",
    "variance_make = squares_make/df_make\n",
    "variance_make"
   ]
  },
  {
   "cell_type": "code",
   "execution_count": 14,
   "id": "245bc1ba",
   "metadata": {},
   "outputs": [
    {
     "data": {
      "text/plain": [
       "595062100.1232268"
      ]
     },
     "execution_count": 14,
     "metadata": {},
     "output_type": "execute_result"
    }
   ],
   "source": [
    "# colorの分散\n",
    "variance_color = squares_color/df_color\n",
    "variance_color"
   ]
  },
  {
   "cell_type": "code",
   "execution_count": 15,
   "id": "f2fd7778",
   "metadata": {},
   "outputs": [
    {
     "data": {
      "text/plain": [
       "135516553.00961122"
      ]
     },
     "execution_count": 15,
     "metadata": {},
     "output_type": "execute_result"
    }
   ],
   "source": [
    "# 誤差の分散\n",
    "variance_resid2 = squares_resid2/df_resid\n",
    "variance_resid2"
   ]
  },
  {
   "cell_type": "markdown",
   "id": "8008f7cd",
   "metadata": {},
   "source": [
    "## 7.**make、color**のF比を求める"
   ]
  },
  {
   "cell_type": "code",
   "execution_count": 16,
   "id": "d0642bba",
   "metadata": {},
   "outputs": [
    {
     "data": {
      "text/plain": [
       "5.862960090595404"
      ]
     },
     "execution_count": 16,
     "metadata": {},
     "output_type": "execute_result"
    }
   ],
   "source": [
    "# makeのF比\n",
    "f_ratio_make = variance_make/variance_resid2\n",
    "f_ratio_make"
   ]
  },
  {
   "cell_type": "code",
   "execution_count": 17,
   "id": "4797c0a7",
   "metadata": {},
   "outputs": [
    {
     "data": {
      "text/plain": [
       "4.391065791652945"
      ]
     },
     "execution_count": 17,
     "metadata": {},
     "output_type": "execute_result"
    }
   ],
   "source": [
    "# colorのF比\n",
    "f_ratio_color = variance_color/variance_resid2\n",
    "f_ratio_color"
   ]
  },
  {
   "cell_type": "markdown",
   "id": "5811e6ed",
   "metadata": {},
   "source": [
    "## 8.**make、color**のp値を求める"
   ]
  },
  {
   "cell_type": "code",
   "execution_count": 18,
   "id": "6d04fcaa",
   "metadata": {},
   "outputs": [
    {
     "data": {
      "text/plain": [
       "0.0001040437771613334"
      ]
     },
     "execution_count": 18,
     "metadata": {},
     "output_type": "execute_result"
    }
   ],
   "source": [
    "# makeのp値\n",
    "1-sp.stats.f.cdf(x=f_ratio_make, dfn=df_make, dfd=df_resid)"
   ]
  },
  {
   "cell_type": "code",
   "execution_count": 19,
   "id": "6b27112d",
   "metadata": {},
   "outputs": [
    {
     "data": {
      "text/plain": [
       "0.0015103098675539606"
      ]
     },
     "execution_count": 19,
     "metadata": {},
     "output_type": "execute_result"
    }
   ],
   "source": [
    "# colorのp値\n",
    "1-sp.stats.f.cdf(x=f_ratio_color, dfn=df_color, dfd=df_resid)"
   ]
  },
  {
   "cell_type": "markdown",
   "id": "774db0ea",
   "metadata": {},
   "source": [
    "## 9.二元分析実施"
   ]
  },
  {
   "cell_type": "code",
   "execution_count": 20,
   "id": "80062fa0",
   "metadata": {},
   "outputs": [
    {
     "data": {
      "text/html": [
       "<div>\n",
       "<style scoped>\n",
       "    .dataframe tbody tr th:only-of-type {\n",
       "        vertical-align: middle;\n",
       "    }\n",
       "\n",
       "    .dataframe tbody tr th {\n",
       "        vertical-align: top;\n",
       "    }\n",
       "\n",
       "    .dataframe thead th {\n",
       "        text-align: right;\n",
       "    }\n",
       "</style>\n",
       "<table border=\"1\" class=\"dataframe\">\n",
       "  <thead>\n",
       "    <tr style=\"text-align: right;\">\n",
       "      <th></th>\n",
       "      <th>sum_sq</th>\n",
       "      <th>df</th>\n",
       "      <th>F</th>\n",
       "      <th>PR(&gt;F)</th>\n",
       "    </tr>\n",
       "  </thead>\n",
       "  <tbody>\n",
       "    <tr>\n",
       "      <th>make</th>\n",
       "      <td>3.599297e+09</td>\n",
       "      <td>4.0</td>\n",
       "      <td>6.642025</td>\n",
       "      <td>0.000025</td>\n",
       "    </tr>\n",
       "    <tr>\n",
       "      <th>color</th>\n",
       "      <td>2.801433e+09</td>\n",
       "      <td>4.0</td>\n",
       "      <td>5.169672</td>\n",
       "      <td>0.000370</td>\n",
       "    </tr>\n",
       "    <tr>\n",
       "      <th>Residual</th>\n",
       "      <td>1.353525e+12</td>\n",
       "      <td>9991.0</td>\n",
       "      <td>NaN</td>\n",
       "      <td>NaN</td>\n",
       "    </tr>\n",
       "  </tbody>\n",
       "</table>\n",
       "</div>"
      ],
      "text/plain": [
       "                sum_sq      df         F    PR(>F)\n",
       "make      3.599297e+09     4.0  6.642025  0.000025\n",
       "color     2.801433e+09     4.0  5.169672  0.000370\n",
       "Residual  1.353525e+12  9991.0       NaN       NaN"
      ]
     },
     "execution_count": 20,
     "metadata": {},
     "output_type": "execute_result"
    }
   ],
   "source": [
    "car_model_1 = smf.ols('price ~ make + color', data=data).fit()\n",
    "sm.stats.anova_lm(car_model_1, typ=2)"
   ]
  },
  {
   "cell_type": "markdown",
   "id": "73f53774",
   "metadata": {},
   "source": [
    "# 10.分散分析表　　\n",
    "## 計算結果に誤差は出ているもののmake、color共にp値は0.05よりも小さくなっているため。　　\n",
    "## **中古車の価格はmake、colorによって有意に異なる**と判断できました。"
   ]
  },
  {
   "cell_type": "code",
   "execution_count": null,
   "id": "ca0d1aae",
   "metadata": {},
   "outputs": [],
   "source": []
  }
 ],
 "metadata": {
  "kernelspec": {
   "display_name": "Python 3 (ipykernel)",
   "language": "python",
   "name": "python3"
  },
  "language_info": {
   "codemirror_mode": {
    "name": "ipython",
    "version": 3
   },
   "file_extension": ".py",
   "mimetype": "text/x-python",
   "name": "python",
   "nbconvert_exporter": "python",
   "pygments_lexer": "ipython3",
   "version": "3.8.3"
  }
 },
 "nbformat": 4,
 "nbformat_minor": 5
}
