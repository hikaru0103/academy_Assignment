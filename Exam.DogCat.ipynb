{
 "cells": [
  {
   "cell_type": "markdown",
   "id": "8b4f3408",
   "metadata": {},
   "source": [
    "# 写真に映る動物が犬か猫かを分類する"
   ]
  },
  {
   "cell_type": "code",
   "execution_count": 18,
   "id": "6db3e46a",
   "metadata": {},
   "outputs": [],
   "source": [
    "# 必要なライブラリのインポート\n",
    "import numpy as np\n",
    "import pandas as pd\n",
    "from PIL import Image\n",
    "from sklearn.svm import SVC\n",
    "from sklearn import metrics"
   ]
  },
  {
   "cell_type": "code",
   "execution_count": 19,
   "id": "d6ab4a6b",
   "metadata": {},
   "outputs": [],
   "source": [
    "# 訓練データ用CSVの読込\n",
    "train_data = pd.read_csv(\"dc_photos/train/train_data.csv\")"
   ]
  },
  {
   "cell_type": "code",
   "execution_count": 20,
   "id": "9b203e06",
   "metadata": {},
   "outputs": [],
   "source": [
    "# テストデータ用CSVの読込\n",
    "test_data = pd.read_csv(\"dc_photos/test/test_data.csv\")"
   ]
  },
  {
   "cell_type": "markdown",
   "id": "10c54e63",
   "metadata": {},
   "source": [
    "## ・データの前処理や水増し"
   ]
  },
  {
   "cell_type": "code",
   "execution_count": 21,
   "id": "8f90bcf6",
   "metadata": {},
   "outputs": [],
   "source": [
    "# 訓練用写真の読込\n",
    "\n",
    "# データ保管する領域の確保\n",
    "train_len = len(train_data)\n",
    "# 左右に回転させたものを用意するため、2倍の容量を確保\n",
    "x_train = np.empty((train_len * 2, 5625), dtype=np.uint8)\n",
    "y_train = np.empty(train_len * 2, dtype=np.uint8)\n",
    "\n",
    "# 繰り返し\n",
    "for i in range(len(train_data)):\n",
    "    name        = train_data.loc[i, \"File name\"]\n",
    "    train_img   = Image.open(f\"dc_photos/train/{name}.jpg\").convert(\"L\")\n",
    "    train_img   = np.array(train_img)\n",
    "    train_img_f = train_img.flatten()\n",
    "    x_train[i]  = train_img_f\n",
    "    y_train[i]  = train_data.loc[i, \"DC\"]\n",
    "    \n",
    "    # 左右反転\n",
    "    train_img_lr           = np.fliplr(train_img)\n",
    "    train_img_lr_f         = train_img_lr.flatten()\n",
    "    x_train[i + train_len] = train_img_lr_f\n",
    "    y_train[i + train_len] = train_data.loc[i, \"DC\"]"
   ]
  },
  {
   "cell_type": "code",
   "execution_count": 22,
   "id": "0921b37c",
   "metadata": {},
   "outputs": [],
   "source": [
    "# テスト用写真読み込み\n",
    "# データを保管する領域の確保\n",
    "test_len = len(test_data)\n",
    "x_test   = np.empty((test_len, 5625), dtype=np.uint8)\n",
    "y_test   = np.empty(test_len, dtype=np.uint8)\n",
    "\n",
    "# 繰り返し\n",
    "for i in range(test_len):\n",
    "    name = test_data.loc[i, \"File name\"]\n",
    "    test_img = Image.open(f\"dc_photos/test/{name}.jpg\").convert(\"L\")\n",
    "    test_img = np.array(test_img)\n",
    "    test_img_f = test_img.flatten()\n",
    "    x_test[i] = test_img_f\n",
    "    y_test[i] = test_data.loc[i, \"DC\"]"
   ]
  },
  {
   "cell_type": "code",
   "execution_count": 23,
   "id": "eb3005a6",
   "metadata": {},
   "outputs": [
    {
     "data": {
      "text/plain": [
       "SVC(kernel='linear')"
      ]
     },
     "execution_count": 23,
     "metadata": {},
     "output_type": "execute_result"
    }
   ],
   "source": [
    "# SVCの分類モデルの作成\n",
    "dog_cat = SVC(kernel = \"linear\")\n",
    "# 訓練データを分類モデルに設定する\n",
    "dog_cat.fit(x_train, y_train)"
   ]
  },
  {
   "cell_type": "code",
   "execution_count": 24,
   "id": "b6dcb0ae",
   "metadata": {},
   "outputs": [],
   "source": [
    "# テストデータを使って分類を実行する\n",
    "y_pred = dog_cat.predict(x_test)"
   ]
  },
  {
   "cell_type": "code",
   "execution_count": 25,
   "id": "a1f2b0bf",
   "metadata": {},
   "outputs": [
    {
     "name": "stdout",
     "output_type": "stream",
     "text": [
      "[0 0 0 0 1 0 0 0 1 1 0 0 0 1 0 0 0 0 0 1 1 0 1 1 0 1 0 0 0 0 0 1 0 1 0 0 1\n",
      " 1 0 0 0 0 0 0 0 0 0 1 0 0 1 1 1 1 1 0 1 1 1 1 1 1 1 0 1 1 1 1 1 1 1 1 1 1\n",
      " 1 1 0 1 1 0 1 1 0 1 1 1 1 1 1 1 1 1 1 1 1 1 1 1 1 1]\n"
     ]
    }
   ],
   "source": [
    "# 予測値を表示する\n",
    "print(y_pred)"
   ]
  },
  {
   "cell_type": "code",
   "execution_count": 26,
   "id": "91473f53",
   "metadata": {},
   "outputs": [
    {
     "name": "stdout",
     "output_type": "stream",
     "text": [
      "[0 0 0 0 0 0 0 0 0 0 0 0 0 0 0 0 0 0 0 0 0 0 0 0 0 0 0 0 0 0 0 0 0 0 0 0 0\n",
      " 0 0 0 0 0 0 0 0 0 0 0 0 0 1 1 1 1 1 1 1 1 1 1 1 1 1 1 1 1 1 1 1 1 1 1 1 1\n",
      " 1 1 1 1 1 1 1 1 1 1 1 1 1 1 1 1 1 1 1 1 1 1 1 1 1 1]\n"
     ]
    }
   ],
   "source": [
    "# 実際の値を表示する\n",
    "print(y_test)"
   ]
  },
  {
   "cell_type": "code",
   "execution_count": 27,
   "id": "54717f0a",
   "metadata": {},
   "outputs": [
    {
     "name": "stdout",
     "output_type": "stream",
     "text": [
      "[[36 14]\n",
      " [ 5 45]]\n"
     ]
    }
   ],
   "source": [
    "# 混同行列で集計結果を表示する\n",
    "print(metrics.confusion_matrix(y_test, y_pred))"
   ]
  },
  {
   "cell_type": "code",
   "execution_count": 28,
   "id": "d7cf648a",
   "metadata": {
    "scrolled": true
   },
   "outputs": [
    {
     "name": "stdout",
     "output_type": "stream",
     "text": [
      "              precision    recall  f1-score   support\n",
      "\n",
      "           0       0.88      0.72      0.79        50\n",
      "           1       0.76      0.90      0.83        50\n",
      "\n",
      "    accuracy                           0.81       100\n",
      "   macro avg       0.82      0.81      0.81       100\n",
      "weighted avg       0.82      0.81      0.81       100\n",
      "\n"
     ]
    }
   ],
   "source": [
    "# 正答率を表示する\n",
    "print(metrics.classification_report(y_test, y_pred))"
   ]
  },
  {
   "cell_type": "code",
   "execution_count": null,
   "id": "3a20a6c9",
   "metadata": {},
   "outputs": [],
   "source": []
  }
 ],
 "metadata": {
  "kernelspec": {
   "display_name": "Python 3 (ipykernel)",
   "language": "python",
   "name": "python3"
  },
  "language_info": {
   "codemirror_mode": {
    "name": "ipython",
    "version": 3
   },
   "file_extension": ".py",
   "mimetype": "text/x-python",
   "name": "python",
   "nbconvert_exporter": "python",
   "pygments_lexer": "ipython3",
   "version": "3.8.3"
  }
 },
 "nbformat": 4,
 "nbformat_minor": 5
}
