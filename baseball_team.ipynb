{
 "cells": [
  {
   "cell_type": "code",
   "execution_count": 64,
   "id": "39413a73",
   "metadata": {},
   "outputs": [],
   "source": [
    "# クラス定義\n",
    "class Baseball_Team:\n",
    "    def __init__(self, name, win, lose, draw):\n",
    "        self.name = name\n",
    "        self.win  = win\n",
    "        self.lose = lose\n",
    "        self.draw = draw\n",
    "        \n",
    "    def calc_win_rate(self):\n",
    "        return self.win / (self.win + self.lose)\n",
    "    \n",
    "    def show_team_result(self):\n",
    "        print(f\"{self.name:8s} {self.win:3d}  {self.lose:3d}   {self.draw:2d} {self.calc_win_rate():.3f}\")"
   ]
  },
  {
   "cell_type": "code",
   "execution_count": 65,
   "id": "a5cc88ae",
   "metadata": {},
   "outputs": [
    {
     "name": "stdout",
     "output_type": "stream",
     "text": [
      "team     win lose draw rate\n",
      "Giants    77   64    2 0.546\n",
      "Baysters  71   69    3 0.507\n",
      "Tigers    69   68    6 0.504\n",
      "Carp      70   70    3 0.500\n",
      "Dragons   68   73    2 0.482\n",
      "Swallows  59   82    2 0.418\n"
     ]
    }
   ],
   "source": [
    "# インスタンス生成\n",
    "giants   = Baseball_Team(\"Giants\", 77, 64,2)\n",
    "baysters = Baseball_Team(\"Baysters\", 71, 69, 3)\n",
    "tigers   = Baseball_Team(\"Tigers\", 69, 68, 6)\n",
    "carp     = Baseball_Team(\"Carp\", 70, 70, 3)\n",
    "dragons  = Baseball_Team(\"Dragons\", 68, 73, 2)\n",
    "swallows = Baseball_Team(\"Swallows\", 59, 82, 2)\n",
    "\n",
    "print(\"team     win lose draw rate\")\n",
    "teams = [giants, baysters, tigers, carp, dragons, swallows]\n",
    "for team in teams:\n",
    "    team.show_team_result()"
   ]
  },
  {
   "cell_type": "code",
   "execution_count": null,
   "id": "f03fba4c",
   "metadata": {},
   "outputs": [],
   "source": []
  }
 ],
 "metadata": {
  "kernelspec": {
   "display_name": "Python 3 (ipykernel)",
   "language": "python",
   "name": "python3"
  },
  "language_info": {
   "codemirror_mode": {
    "name": "ipython",
    "version": 3
   },
   "file_extension": ".py",
   "mimetype": "text/x-python",
   "name": "python",
   "nbconvert_exporter": "python",
   "pygments_lexer": "ipython3",
   "version": "3.8.3"
  }
 },
 "nbformat": 4,
 "nbformat_minor": 5
}
