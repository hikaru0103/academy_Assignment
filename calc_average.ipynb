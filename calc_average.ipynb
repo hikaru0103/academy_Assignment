{
 "cells": [
  {
   "cell_type": "code",
   "execution_count": 1,
   "id": "a4f28289",
   "metadata": {},
   "outputs": [],
   "source": []
  },
  {
   "cell_type": "code",
   "execution_count": 4,
   "id": "154dd7db",
   "metadata": {},
   "outputs": [
    {
     "name": "stdin",
     "output_type": "stream",
     "text": [
      "点数を入力してください: 5\n",
      "点数を入力してください: 5\n",
      "点数を入力してください: 5\n",
      "点数を入力してください: 5\n",
      "点数を入力してください: 5\n",
      "点数を入力してください: 5\n",
      "点数を入力してください: 5\n",
      "点数を入力してください: 5\n",
      "点数を入力してください: -1\n"
     ]
    },
    {
     "name": "stdout",
     "output_type": "stream",
     "text": [
      "8 人のテストの平均点は 5.0 点です\n"
     ]
    }
   ],
   "source": [
    "total_point = 0\n",
    "point_count = 0\n",
    "\n",
    "while True:\n",
    "    point = int(input(\"点数を入力してください:\"))\n",
    "    \n",
    "    if point == -1:\n",
    "        break\n",
    "    total_point += point\n",
    "    point_count += 1\n",
    "    \n",
    "ava = total_point / point_count\n",
    "print(point_count, \"人のテストの平均点は\", ava, \"点です\")"
   ]
  },
  {
   "cell_type": "code",
   "execution_count": null,
   "id": "e77f4f5b",
   "metadata": {},
   "outputs": [],
   "source": []
  }
 ],
 "metadata": {
  "kernelspec": {
   "display_name": "Python 3 (ipykernel)",
   "language": "python",
   "name": "python3"
  },
  "language_info": {
   "codemirror_mode": {
    "name": "ipython",
    "version": 3
   },
   "file_extension": ".py",
   "mimetype": "text/x-python",
   "name": "python",
   "nbconvert_exporter": "python",
   "pygments_lexer": "ipython3",
   "version": "3.8.3"
  }
 },
 "nbformat": 4,
 "nbformat_minor": 5
}
