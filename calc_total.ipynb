{
 "cells": [
  {
   "cell_type": "code",
   "execution_count": 5,
   "id": "d0a5f2ba",
   "metadata": {},
   "outputs": [
    {
     "name": "stdin",
     "output_type": "stream",
     "text": [
      "税抜価格を入力してください: 1800\n"
     ]
    }
   ],
   "source": [
    "score = int(input(\"税抜価格を入力してください:\"))"
   ]
  },
  {
   "cell_type": "code",
   "execution_count": 6,
   "id": "8b0f8c42",
   "metadata": {},
   "outputs": [],
   "source": [
    "score = int(round(score*1.10))"
   ]
  },
  {
   "cell_type": "code",
   "execution_count": 7,
   "id": "4f9f60c5",
   "metadata": {},
   "outputs": [
    {
     "name": "stdout",
     "output_type": "stream",
     "text": [
      "送料として350円かかります\n"
     ]
    }
   ],
   "source": [
    "if score >= 2000:\n",
    "    print(\"送料は無料です\")\n",
    "else:\n",
    "    print(\"送料として350円かかります\")\n",
    "    score += 350"
   ]
  },
  {
   "cell_type": "code",
   "execution_count": 8,
   "id": "2210c35f",
   "metadata": {},
   "outputs": [
    {
     "name": "stdout",
     "output_type": "stream",
     "text": [
      "送料込みの価格は2330円です。\n"
     ]
    }
   ],
   "source": [
    "print(f\"送料込みの価格は{score}円です。\")"
   ]
  },
  {
   "cell_type": "code",
   "execution_count": null,
   "id": "2108ed77",
   "metadata": {},
   "outputs": [],
   "source": []
  }
 ],
 "metadata": {
  "kernelspec": {
   "display_name": "Python 3 (ipykernel)",
   "language": "python",
   "name": "python3"
  },
  "language_info": {
   "codemirror_mode": {
    "name": "ipython",
    "version": 3
   },
   "file_extension": ".py",
   "mimetype": "text/x-python",
   "name": "python",
   "nbconvert_exporter": "python",
   "pygments_lexer": "ipython3",
   "version": "3.8.3"
  }
 },
 "nbformat": 4,
 "nbformat_minor": 5
}
