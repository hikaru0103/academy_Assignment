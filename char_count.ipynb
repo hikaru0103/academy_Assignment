{
 "cells": [
  {
   "cell_type": "code",
   "execution_count": 1,
   "id": "592be5c8",
   "metadata": {},
   "outputs": [
    {
     "name": "stdin",
     "output_type": "stream",
     "text": [
      "英単語を入力してください: dog\n",
      "英単語を入力してください: cat\n",
      "英単語を入力してください: giraffe\n",
      "英単語を入力してください: kangaroo\n",
      "英単語を入力してください: horse\n",
      "英単語を入力してください: bear\n",
      "英単語を入力してください: \n"
     ]
    },
    {
     "name": "stdout",
     "output_type": "stream",
     "text": [
      "入力した英単語:['bear', 'cat', 'dog', 'giraffe', 'horse', 'kangaroo']\n",
      "aが5個ありました\n",
      "bが1個ありました\n",
      "cが1個ありました\n",
      "dが1個ありました\n",
      "eが3個ありました\n",
      "fが2個ありました\n",
      "gが3個ありました\n",
      "hが1個ありました\n",
      "iが1個ありました\n",
      "kが1個ありました\n",
      "nが1個ありました\n",
      "oが4個ありました\n",
      "rが4個ありました\n",
      "sが1個ありました\n",
      "tが1個ありました\n"
     ]
    }
   ],
   "source": [
    "# 空のリスト\n",
    "words = []\n",
    "\n",
    "# 辞書作成\n",
    "char_count = dict.fromkeys(list(\"abcdefghijklmnopqrstuvwxyz\"), 0)\n",
    "\n",
    "# 英単語の入力\n",
    "while True:\n",
    "    word = input(\"英単語を入力してください:\")\n",
    "    if word == \"\":\n",
    "        break\n",
    "    words.append(word)\n",
    "    words.sort()\n",
    "print(f\"入力した英単語:{words}\")\n",
    "\n",
    "# 文字数のカウント\n",
    "for word in words:\n",
    "    for i in word:\n",
    "        if i in char_count.keys():\n",
    "            char_count[i] += 1\n",
    "\n",
    "\n",
    "# 文字数1個以上の表示\n",
    "for i, count in char_count.items():\n",
    "    if count >= 1:\n",
    "        print(\"{}が{}個ありました\".format(i, count))"
   ]
  },
  {
   "cell_type": "code",
   "execution_count": null,
   "id": "a1c09a13",
   "metadata": {},
   "outputs": [],
   "source": []
  }
 ],
 "metadata": {
  "kernelspec": {
   "display_name": "Python 3 (ipykernel)",
   "language": "python",
   "name": "python3"
  },
  "language_info": {
   "codemirror_mode": {
    "name": "ipython",
    "version": 3
   },
   "file_extension": ".py",
   "mimetype": "text/x-python",
   "name": "python",
   "nbconvert_exporter": "python",
   "pygments_lexer": "ipython3",
   "version": "3.8.3"
  }
 },
 "nbformat": 4,
 "nbformat_minor": 5
}
