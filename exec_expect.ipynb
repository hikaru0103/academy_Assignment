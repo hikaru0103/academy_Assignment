{
 "cells": [
  {
   "cell_type": "code",
   "execution_count": 1,
   "id": "1e216822",
   "metadata": {},
   "outputs": [
    {
     "name": "stdin",
     "output_type": "stream",
     "text": [
      "割られる数を入力してください: 2\n",
      "割る数を入力してください: 0\n"
     ]
    },
    {
     "name": "stdout",
     "output_type": "stream",
     "text": [
      "エラー:0で割り算をしないでください\n",
      "処理を終了します\n"
     ]
    }
   ],
   "source": [
    "try:\n",
    "    a = int(input(\"割られる数を入力してください:\"))\n",
    "    b = int(input(\"割る数を入力してください:\"))\n",
    "    c = a / b\n",
    "except ValueError:\n",
    "    print(\"エラー:数値を入力してください\")\n",
    "except ZeroDivisionError:\n",
    "    print(\"エラー:0で割り算をしないでください\")\n",
    "except:\n",
    "    print(\"何らかのエラーが発生しました\")\n",
    "else:\n",
    "    print(f\"{a} ÷ {b} = {c}\")\n",
    "finally:\n",
    "    print(\"処理を終了します\")"
   ]
  },
  {
   "cell_type": "code",
   "execution_count": null,
   "id": "1cad41dc",
   "metadata": {},
   "outputs": [],
   "source": []
  }
 ],
 "metadata": {
  "kernelspec": {
   "display_name": "Python 3 (ipykernel)",
   "language": "python",
   "name": "python3"
  },
  "language_info": {
   "codemirror_mode": {
    "name": "ipython",
    "version": 3
   },
   "file_extension": ".py",
   "mimetype": "text/x-python",
   "name": "python",
   "nbconvert_exporter": "python",
   "pygments_lexer": "ipython3",
   "version": "3.8.3"
  }
 },
 "nbformat": 4,
 "nbformat_minor": 5
}
