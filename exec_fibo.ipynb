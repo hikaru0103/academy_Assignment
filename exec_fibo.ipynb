{
 "cells": [
  {
   "cell_type": "code",
   "execution_count": 16,
   "id": "0dfc44fb",
   "metadata": {},
   "outputs": [
    {
     "name": "stdin",
     "output_type": "stream",
     "text": [
      "何番目の数値を求めますか?: 10\n"
     ]
    },
    {
     "name": "stdout",
     "output_type": "stream",
     "text": [
      "55\n"
     ]
    }
   ],
   "source": [
    "# progrumのインポート\n",
    "import progrum as p\n",
    "\n",
    "fibo = int(input(\"何番目の数値を求めますか?:\"))\n",
    "\n",
    "my_fibo = p.fibonacci(fibo)\n",
    "\n",
    "print(my_fibo)"
   ]
  },
  {
   "cell_type": "code",
   "execution_count": null,
   "id": "11fa4941",
   "metadata": {},
   "outputs": [],
   "source": []
  }
 ],
 "metadata": {
  "kernelspec": {
   "display_name": "Python 3 (ipykernel)",
   "language": "python",
   "name": "python3"
  },
  "language_info": {
   "codemirror_mode": {
    "name": "ipython",
    "version": 3
   },
   "file_extension": ".py",
   "mimetype": "text/x-python",
   "name": "python",
   "nbconvert_exporter": "python",
   "pygments_lexer": "ipython3",
   "version": "3.8.3"
  }
 },
 "nbformat": 4,
 "nbformat_minor": 5
}
