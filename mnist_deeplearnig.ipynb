{
 "cells": [
  {
   "cell_type": "markdown",
   "metadata": {
    "colab_type": "text",
    "id": "9MtXCKr3JDkN"
   },
   "source": [
    "# 課題6: ディープラーニング\n",
    "\n",
    "今回の課題では手書き文字の認識をCNNを用いて行います。\n",
    "\n",
    "下記にKerasから手書き文字のデータセットをダウンロードするコードが記載されています。\n",
    "\n",
    "このデータを用いてディープラーニングのモデルを構築してください。\n",
    "\n",
    "今までのレッスンで学んだ内容を踏まえ、各セルに'#コメント'の内容を実行するコードを記入してください。\n",
    "\n",
    "※既にソースコードが記載されているセルは変更不要です。"
   ]
  },
  {
   "cell_type": "markdown",
   "metadata": {
    "colab_type": "text",
    "id": "1KxQExnVJDkS"
   },
   "source": [
    "## 1. ライブラリのインポート"
   ]
  },
  {
   "cell_type": "code",
   "execution_count": 1,
   "metadata": {
    "colab": {
     "base_uri": "https://localhost:8080/",
     "height": 63
    },
    "colab_type": "code",
    "id": "9OCdQVS-JDkT",
    "outputId": "c7d9dd35-a8c7-4f80-b82d-ea42bddf6cf6"
   },
   "outputs": [],
   "source": [
    "import numpy as np\n",
    "import matplotlib.pyplot as plt\n",
    "import pandas as pd\n",
    "\n",
    "# Keras\n",
    "from tensorflow import keras\n",
    "from tensorflow.keras.layers import Dense, Activation\n",
    "from tensorflow.keras.models import Sequential\n",
    "from tensorflow.keras.utils import to_categorical\n",
    "\n",
    "# データの分割\n",
    "from sklearn.model_selection import train_test_split\n",
    "\n",
    "# 手書き数字のデータセット\n",
    "from tensorflow.keras.datasets import mnist\n",
    "\n",
    "# JupyterNotebook上でグラフを表示する設定\n",
    "%matplotlib inline\n",
    "# DataFrameで全ての列を表示する設定\n",
    "pd.options.display.max_columns = None"
   ]
  },
  {
   "cell_type": "markdown",
   "metadata": {
    "colab_type": "text",
    "id": "GrRHWO-sJDkY"
   },
   "source": [
    "## 2. データの読込\n",
    "Kerasのデータセットは予めTraining setとTest setに分けられています。戻り値はタプルで取得できます。"
   ]
  },
  {
   "cell_type": "code",
   "execution_count": 2,
   "metadata": {
    "colab": {},
    "colab_type": "code",
    "id": "OmCdK5UDJDka"
   },
   "outputs": [],
   "source": [
    "# Kerasに添付されている手書き数字のデータセットをダウンロード\n",
    "(X_train, Y_train), (X_test, Y_test) = mnist.load_data()"
   ]
  },
  {
   "cell_type": "markdown",
   "metadata": {
    "colab_type": "text",
    "id": "Pjk0dp4fJDke"
   },
   "source": [
    "## 3.データの確認"
   ]
  },
  {
   "cell_type": "code",
   "execution_count": 3,
   "metadata": {
    "colab": {
     "base_uri": "https://localhost:8080/",
     "height": 85
    },
    "colab_type": "code",
    "id": "Xtan1ZM8JDkf",
    "outputId": "6f5563d5-5242-44d2-e629-f705a151b7e0"
   },
   "outputs": [
    {
     "name": "stdout",
     "output_type": "stream",
     "text": [
      "(60000, 28, 28)\n",
      "(60000,)\n",
      "(10000, 28, 28)\n",
      "(10000,)\n"
     ]
    }
   ],
   "source": [
    "# 形状の確認\n",
    "print(X_train.shape)\n",
    "print(Y_train.shape)\n",
    "print(X_test.shape)\n",
    "print(Y_test.shape)"
   ]
  },
  {
   "cell_type": "code",
   "execution_count": 4,
   "metadata": {
    "colab": {
     "base_uri": "https://localhost:8080/",
     "height": 1000
    },
    "colab_type": "code",
    "id": "2gVHUVDsJDkl",
    "outputId": "fa966cd7-7992-412f-8d49-a38597d8e71a"
   },
   "outputs": [
    {
     "data": {
      "text/plain": [
       "array([[  0,   0,   0,   0,   0,   0,   0,   0,   0,   0,   0,   0,   0,\n",
       "          0,   0,   0,   0,   0,   0,   0,   0,   0,   0,   0,   0,   0,\n",
       "          0,   0],\n",
       "       [  0,   0,   0,   0,   0,   0,   0,   0,   0,   0,   0,   0,   0,\n",
       "          0,   0,   0,   0,   0,   0,   0,   0,   0,   0,   0,   0,   0,\n",
       "          0,   0],\n",
       "       [  0,   0,   0,   0,   0,   0,   0,   0,   0,   0,   0,   0,   0,\n",
       "          0,   0,   0,   0,   0,   0,   0,   0,   0,   0,   0,   0,   0,\n",
       "          0,   0],\n",
       "       [  0,   0,   0,   0,   0,   0,   0,   0,   0,   0,   0,   0,   0,\n",
       "          0,   0,   0,   0,   0,   0,   0,   0,   0,   0,   0,   0,   0,\n",
       "          0,   0],\n",
       "       [  0,   0,   0,   0,   0,   0,   0,   0,   0,   0,   0,   0,   0,\n",
       "          0,   0,   0,   0,   0,   0,   0,   0,   0,   0,   0,   0,   0,\n",
       "          0,   0],\n",
       "       [  0,   0,   0,   0,   0,   0,   0,   0,   0,   0,   0,   0,   3,\n",
       "         18,  18,  18, 126, 136, 175,  26, 166, 255, 247, 127,   0,   0,\n",
       "          0,   0],\n",
       "       [  0,   0,   0,   0,   0,   0,   0,   0,  30,  36,  94, 154, 170,\n",
       "        253, 253, 253, 253, 253, 225, 172, 253, 242, 195,  64,   0,   0,\n",
       "          0,   0],\n",
       "       [  0,   0,   0,   0,   0,   0,   0,  49, 238, 253, 253, 253, 253,\n",
       "        253, 253, 253, 253, 251,  93,  82,  82,  56,  39,   0,   0,   0,\n",
       "          0,   0],\n",
       "       [  0,   0,   0,   0,   0,   0,   0,  18, 219, 253, 253, 253, 253,\n",
       "        253, 198, 182, 247, 241,   0,   0,   0,   0,   0,   0,   0,   0,\n",
       "          0,   0],\n",
       "       [  0,   0,   0,   0,   0,   0,   0,   0,  80, 156, 107, 253, 253,\n",
       "        205,  11,   0,  43, 154,   0,   0,   0,   0,   0,   0,   0,   0,\n",
       "          0,   0],\n",
       "       [  0,   0,   0,   0,   0,   0,   0,   0,   0,  14,   1, 154, 253,\n",
       "         90,   0,   0,   0,   0,   0,   0,   0,   0,   0,   0,   0,   0,\n",
       "          0,   0],\n",
       "       [  0,   0,   0,   0,   0,   0,   0,   0,   0,   0,   0, 139, 253,\n",
       "        190,   2,   0,   0,   0,   0,   0,   0,   0,   0,   0,   0,   0,\n",
       "          0,   0],\n",
       "       [  0,   0,   0,   0,   0,   0,   0,   0,   0,   0,   0,  11, 190,\n",
       "        253,  70,   0,   0,   0,   0,   0,   0,   0,   0,   0,   0,   0,\n",
       "          0,   0],\n",
       "       [  0,   0,   0,   0,   0,   0,   0,   0,   0,   0,   0,   0,  35,\n",
       "        241, 225, 160, 108,   1,   0,   0,   0,   0,   0,   0,   0,   0,\n",
       "          0,   0],\n",
       "       [  0,   0,   0,   0,   0,   0,   0,   0,   0,   0,   0,   0,   0,\n",
       "         81, 240, 253, 253, 119,  25,   0,   0,   0,   0,   0,   0,   0,\n",
       "          0,   0],\n",
       "       [  0,   0,   0,   0,   0,   0,   0,   0,   0,   0,   0,   0,   0,\n",
       "          0,  45, 186, 253, 253, 150,  27,   0,   0,   0,   0,   0,   0,\n",
       "          0,   0],\n",
       "       [  0,   0,   0,   0,   0,   0,   0,   0,   0,   0,   0,   0,   0,\n",
       "          0,   0,  16,  93, 252, 253, 187,   0,   0,   0,   0,   0,   0,\n",
       "          0,   0],\n",
       "       [  0,   0,   0,   0,   0,   0,   0,   0,   0,   0,   0,   0,   0,\n",
       "          0,   0,   0,   0, 249, 253, 249,  64,   0,   0,   0,   0,   0,\n",
       "          0,   0],\n",
       "       [  0,   0,   0,   0,   0,   0,   0,   0,   0,   0,   0,   0,   0,\n",
       "          0,  46, 130, 183, 253, 253, 207,   2,   0,   0,   0,   0,   0,\n",
       "          0,   0],\n",
       "       [  0,   0,   0,   0,   0,   0,   0,   0,   0,   0,   0,   0,  39,\n",
       "        148, 229, 253, 253, 253, 250, 182,   0,   0,   0,   0,   0,   0,\n",
       "          0,   0],\n",
       "       [  0,   0,   0,   0,   0,   0,   0,   0,   0,   0,  24, 114, 221,\n",
       "        253, 253, 253, 253, 201,  78,   0,   0,   0,   0,   0,   0,   0,\n",
       "          0,   0],\n",
       "       [  0,   0,   0,   0,   0,   0,   0,   0,  23,  66, 213, 253, 253,\n",
       "        253, 253, 198,  81,   2,   0,   0,   0,   0,   0,   0,   0,   0,\n",
       "          0,   0],\n",
       "       [  0,   0,   0,   0,   0,   0,  18, 171, 219, 253, 253, 253, 253,\n",
       "        195,  80,   9,   0,   0,   0,   0,   0,   0,   0,   0,   0,   0,\n",
       "          0,   0],\n",
       "       [  0,   0,   0,   0,  55, 172, 226, 253, 253, 253, 253, 244, 133,\n",
       "         11,   0,   0,   0,   0,   0,   0,   0,   0,   0,   0,   0,   0,\n",
       "          0,   0],\n",
       "       [  0,   0,   0,   0, 136, 253, 253, 253, 212, 135, 132,  16,   0,\n",
       "          0,   0,   0,   0,   0,   0,   0,   0,   0,   0,   0,   0,   0,\n",
       "          0,   0],\n",
       "       [  0,   0,   0,   0,   0,   0,   0,   0,   0,   0,   0,   0,   0,\n",
       "          0,   0,   0,   0,   0,   0,   0,   0,   0,   0,   0,   0,   0,\n",
       "          0,   0],\n",
       "       [  0,   0,   0,   0,   0,   0,   0,   0,   0,   0,   0,   0,   0,\n",
       "          0,   0,   0,   0,   0,   0,   0,   0,   0,   0,   0,   0,   0,\n",
       "          0,   0],\n",
       "       [  0,   0,   0,   0,   0,   0,   0,   0,   0,   0,   0,   0,   0,\n",
       "          0,   0,   0,   0,   0,   0,   0,   0,   0,   0,   0,   0,   0,\n",
       "          0,   0]], dtype=uint8)"
      ]
     },
     "execution_count": 4,
     "metadata": {},
     "output_type": "execute_result"
    }
   ],
   "source": [
    "# X_trainの先頭1行を表示\n",
    "X_train[0]"
   ]
  },
  {
   "cell_type": "code",
   "execution_count": 5,
   "metadata": {
    "colab": {
     "base_uri": "https://localhost:8080/",
     "height": 34
    },
    "colab_type": "code",
    "id": "SRbWwy6UJDkp",
    "outputId": "aa0fef7b-27d6-49fd-a0c5-823030e13384"
   },
   "outputs": [
    {
     "data": {
      "text/plain": [
       "5"
      ]
     },
     "execution_count": 5,
     "metadata": {},
     "output_type": "execute_result"
    }
   ],
   "source": [
    "# Y_trainの先頭1行を表示\n",
    "Y_train[0]"
   ]
  },
  {
   "cell_type": "markdown",
   "metadata": {
    "colab_type": "text",
    "id": "reqZYLlGJDkt"
   },
   "source": [
    "### 手書き数字の可視化"
   ]
  },
  {
   "cell_type": "code",
   "execution_count": 6,
   "metadata": {
    "colab": {},
    "colab_type": "code",
    "id": "TxaXmO6kJDku"
   },
   "outputs": [],
   "source": [
    "# 「数字:空のリスト」の辞書を作成する\n",
    "images = {label: [] for label in range(0,10)}"
   ]
  },
  {
   "cell_type": "code",
   "execution_count": 7,
   "metadata": {
    "colab": {},
    "colab_type": "code",
    "id": "XDR99WayJDky"
   },
   "outputs": [],
   "source": [
    "# 総イメージ数\n",
    "image_count = 0\n",
    "\n",
    "# それぞれの数字のリストに、説明変数をappendしていく\n",
    "for i in range(0, len(X_train)):\n",
    "    if len(images[Y_train[i]]) < 10:\n",
    "        images[Y_train[i]].append(X_train[i])\n",
    "        image_count += 1\n",
    "        if image_count == 100:\n",
    "            break"
   ]
  },
  {
   "cell_type": "code",
   "execution_count": 8,
   "metadata": {
    "colab": {
     "base_uri": "https://localhost:8080/",
     "height": 303
    },
    "colab_type": "code",
    "id": "qFdmn93gJDk1",
    "outputId": "2f54d47d-1890-49f6-8e1b-7bc4ac268dd5"
   },
   "outputs": [
    {
     "data": {
      "image/png": "[encoded data removed]",
      "text/plain": [
       "<Figure size 500x500 with 100 Axes>"
      ]
     },
     "metadata": {},
     "output_type": "display_data"
    }
   ],
   "source": [
    "# 少し時間がかかります。\n",
    "# 10行10列にグラフを分割\n",
    "fig, ax = plt.subplots(10, 10, figsize=(5, 5))\n",
    "\n",
    "for i in range(10):\n",
    "    # ラベル\n",
    "    ax[i, 0].set_ylabel(i)\n",
    "\n",
    "    for j in range(10):\n",
    "        # 行=i、列=jの位置に画像を描画する\n",
    "        ax[i, j].imshow(images[i][j].reshape(28, 28), cmap='Greys')\n",
    "\n",
    "        # 目盛を表示しない設定\n",
    "        ax[i, j].tick_params(left=False, labelleft=False, bottom=False, labelbottom=False)\n",
    "\n",
    "plt.show()"
   ]
  },
  {
   "cell_type": "markdown",
   "metadata": {
    "colab_type": "text",
    "id": "DHIMd_H6JDk5"
   },
   "source": [
    "## 4. データの前処理"
   ]
  },
  {
   "cell_type": "code",
   "execution_count": 9,
   "metadata": {
    "colab": {
     "base_uri": "https://localhost:8080/",
     "height": 85
    },
    "colab_type": "code",
    "id": "qweAKyoqJDk6",
    "outputId": "53bdbae6-28cd-451e-9c35-8bd82d30f96e"
   },
   "outputs": [
    {
     "name": "stdout",
     "output_type": "stream",
     "text": [
      "(60000, 28, 28)\n",
      "(60000,)\n",
      "(10000, 28, 28)\n",
      "(10000,)\n"
     ]
    }
   ],
   "source": [
    "# 形状の確認\n",
    "print(X_train.shape)\n",
    "print(Y_train.shape)\n",
    "print(X_test.shape)\n",
    "print(Y_test.shape)"
   ]
  },
  {
   "cell_type": "code",
   "execution_count": 10,
   "metadata": {
    "colab": {},
    "colab_type": "code",
    "id": "yKADV4C2JDk-"
   },
   "outputs": [],
   "source": [
    "# len関数を使い、X_trainを(X_trainの長さ, 28, 28, 1)にreshapeしてX_train2に代入\n",
    "X_train2 = X_train.reshape(len(X_train), 28, 28, 1)\n",
    "\n",
    "# len関数を使い、X_testを(X_testの長さ, 28, 28, 1)にreshapeしてX_test2に代入\n",
    "X_test2 = X_test.reshape(len(X_test), 28, 28, 1)\n"
   ]
  },
  {
   "cell_type": "code",
   "execution_count": 11,
   "metadata": {
    "colab": {},
    "colab_type": "code",
    "id": "i8h8DUcJJDlA"
   },
   "outputs": [],
   "source": [
    "# to_categoricalを使い、Y_trainをカテゴリー変数に展開してY_train2に代入\n",
    "Y_train2 = to_categorical(Y_train)\n",
    "\n",
    "# to_categoricalを使い、Y_testをカテゴリー変数に展開してY_test2に代入\n",
    "Y_test2 = to_categorical(Y_test)\n"
   ]
  },
  {
   "cell_type": "code",
   "execution_count": 12,
   "metadata": {
    "colab": {
     "base_uri": "https://localhost:8080/",
     "height": 85
    },
    "colab_type": "code",
    "id": "3EmJUH5VJDlD",
    "outputId": "dcf3432f-4857-412a-a15f-b615d8783ec1"
   },
   "outputs": [
    {
     "name": "stdout",
     "output_type": "stream",
     "text": [
      "(60000, 28, 28, 1)\n",
      "(60000, 10)\n",
      "(10000, 28, 28, 1)\n",
      "(10000, 10)\n"
     ]
    }
   ],
   "source": [
    "# 形状の確認\n",
    "print(X_train2.shape)\n",
    "print(Y_train2.shape)\n",
    "print(X_test2.shape)\n",
    "print(Y_test2.shape)"
   ]
  },
  {
   "cell_type": "code",
   "execution_count": 13,
   "metadata": {
    "colab": {},
    "colab_type": "code",
    "id": "IUPxObRwJDlG"
   },
   "outputs": [],
   "source": [
    "# train_test_splitを使いデータを7:3に分割\n",
    "# 機械学習用データ(X_train2、Y_train2)を「X_train2, X_valid2, Y_train2, Y_valid2」に分割\n",
    "X_train2, X_valid2, Y_train2, Y_valid2 = train_test_split(X_train2, Y_train2, test_size=0.3, random_state=0)\n"
   ]
  },
  {
   "cell_type": "code",
   "execution_count": 14,
   "metadata": {
    "colab": {
     "base_uri": "https://localhost:8080/",
     "height": 68
    },
    "colab_type": "code",
    "id": "Ijwe_AtYJDlI",
    "outputId": "9fc1f496-6d7d-42c2-e99e-b4b319b1024b"
   },
   "outputs": [
    {
     "name": "stdout",
     "output_type": "stream",
     "text": [
      "X_train2= (42000, 28, 28, 1) , Y_train2= (42000, 10)\n",
      "X_valid2= (18000, 28, 28, 1) , Y_valid2= (18000, 10)\n",
      "X_test2= (10000, 28, 28, 1) , Y_test2= (10000, 10)\n"
     ]
    }
   ],
   "source": [
    "# データ(学習、検証、テスト)の形状を確認\n",
    "print(\"X_train2=\", X_train2.shape, \", Y_train2=\", Y_train2.shape)\n",
    "print(\"X_valid2=\", X_valid2.shape, \", Y_valid2=\", Y_valid2.shape)\n",
    "print(\"X_test2=\", X_test2.shape, \", Y_test2=\", Y_test2.shape)"
   ]
  },
  {
   "cell_type": "markdown",
   "metadata": {
    "colab_type": "text",
    "id": "B9-lzLelJDlL"
   },
   "source": [
    "## 5. モデルの構築\n",
    "\n",
    "Kerasを使ってモデルを構築してみましょう。以下を条件とします\n",
    "\n",
    "- CNN(Conv2D)を使うこと\n",
    "- 正解率(accuracy)が50%以上であること\n",
    "\n",
    "場合によっては、学習にものすごく時間がかかる場合もあります。適宜パラメータ数を調整して行ってください"
   ]
  },
  {
   "cell_type": "code",
   "execution_count": 15,
   "metadata": {
    "colab": {},
    "colab_type": "code",
    "id": "SPPK9B9wJDlM"
   },
   "outputs": [],
   "source": [
    "# ライブラリのインポート\n",
    "from tensorflow.keras.layers import Conv2D\n",
    "from tensorflow.keras.layers import Flatten\n",
    "from tensorflow.keras.layers import MaxPooling2D\n",
    "from tensorflow.keras.layers import Dropout\n",
    "from tensorflow.keras import regularizers"
   ]
  },
  {
   "cell_type": "code",
   "execution_count": 16,
   "metadata": {
    "colab": {},
    "colab_type": "code",
    "id": "5pgXjSL_JDlO",
    "scrolled": true
   },
   "outputs": [
    {
     "name": "stderr",
     "output_type": "stream",
     "text": [
      "2023-01-04 14:18:03.521642: W tensorflow/stream_executor/platform/default/dso_loader.cc:55] Could not load dynamic library 'libcuda.so.1'; dlerror: libcuda.so.1: cannot open shared object file: No such file or directory\n",
      "2023-01-04 14:18:03.522475: E tensorflow/stream_executor/cuda/cuda_driver.cc:313] failed call to cuInit: UNKNOWN ERROR (303)\n",
      "2023-01-04 14:18:03.523931: I tensorflow/stream_executor/cuda/cuda_diagnostics.cc:156] kernel driver does not appear to be running on this host (ip-172-31-3-167): /proc/driver/nvidia/version does not exist\n",
      "2023-01-04 14:18:03.529339: I tensorflow/core/platform/cpu_feature_guard.cc:143] Your CPU supports instructions that this TensorFlow binary was not compiled to use: AVX2 FMA\n",
      "2023-01-04 14:18:03.599876: I tensorflow/core/platform/profile_utils/cpu_utils.cc:102] CPU Frequency: 2400000000 Hz\n",
      "2023-01-04 14:18:03.603795: I tensorflow/compiler/xla/service/service.cc:168] XLA service 0x7f76a80013e0 initialized for platform Host (this does not guarantee that XLA will be used). Devices:\n",
      "2023-01-04 14:18:03.603816: I tensorflow/compiler/xla/service/service.cc:176]   StreamExecutor device (0): Host, Default Version\n"
     ]
    }
   ],
   "source": [
    "# モデルの初期化\n",
    "model = keras.Sequential()\n",
    "\n",
    "# ここにモデルを構築するコードを記述してください\n",
    "model.add(Conv2D(16, kernel_size=3, padding=\"same\",\n",
    "                strides=1, input_shape=(28, 28, 1),\n",
    "                activation=\"relu\"))\n",
    "model.add(Flatten())\n",
    "model.add(Dense(16, activation='relu'))\n",
    "model.add(Dense(10, activation='softmax'))\n",
    "# 構築\n",
    "model.compile(optimizer = \"rmsprop\",\n",
    "              loss='categorical_crossentropy',\n",
    "              metrics=['accuracy'])"
   ]
  },
  {
   "cell_type": "code",
   "execution_count": 17,
   "metadata": {
    "colab": {
     "base_uri": "https://localhost:8080/",
     "height": 493
    },
    "colab_type": "code",
    "id": "bV2p_OUYJDlR",
    "outputId": "9cee5ecd-1417-4f46-bc48-ecd7a082b4d1"
   },
   "outputs": [
    {
     "name": "stdout",
     "output_type": "stream",
     "text": [
      "Model: \"sequential\"\n",
      "_________________________________________________________________\n",
      "Layer (type)                 Output Shape              Param #   \n",
      "=================================================================\n",
      "conv2d (Conv2D)              (None, 28, 28, 16)        160       \n",
      "_________________________________________________________________\n",
      "flatten (Flatten)            (None, 12544)             0         \n",
      "_________________________________________________________________\n",
      "dense (Dense)                (None, 16)                200720    \n",
      "_________________________________________________________________\n",
      "dense_1 (Dense)              (None, 10)                170       \n",
      "=================================================================\n",
      "Total params: 201,050\n",
      "Trainable params: 201,050\n",
      "Non-trainable params: 0\n",
      "_________________________________________________________________\n"
     ]
    }
   ],
   "source": [
    "# モデルの構造を表示\n",
    "model.summary()\n"
   ]
  },
  {
   "cell_type": "code",
   "execution_count": 18,
   "metadata": {
    "colab": {
     "base_uri": "https://localhost:8080/",
     "height": 1000
    },
    "colab_type": "code",
    "id": "2NEyRuNtJDlU",
    "outputId": "6ce11df2-56c6-485b-e043-bd089c69273d"
   },
   "outputs": [
    {
     "name": "stdout",
     "output_type": "stream",
     "text": [
      "Epoch 1/20\n"
     ]
    },
    {
     "name": "stderr",
     "output_type": "stream",
     "text": [
      "2023-01-04 14:18:03.834397: W tensorflow/core/framework/cpu_allocator_impl.cc:81] Allocation of 32928000 exceeds 10% of free system memory.\n"
     ]
    },
    {
     "name": "stdout",
     "output_type": "stream",
     "text": [
      "  4/420 [..............................] - ETA: 12s - loss: 25.6670 - accuracy: 0.1075"
     ]
    },
    {
     "name": "stderr",
     "output_type": "stream",
     "text": [
      "2023-01-04 14:18:04.840216: W tensorflow/core/framework/cpu_allocator_impl.cc:81] Allocation of 11261376 exceeds 10% of free system memory.\n",
      "2023-01-04 14:18:04.901151: W tensorflow/core/framework/cpu_allocator_impl.cc:81] Allocation of 11261376 exceeds 10% of free system memory.\n",
      "2023-01-04 14:18:04.947903: W tensorflow/core/framework/cpu_allocator_impl.cc:81] Allocation of 11261376 exceeds 10% of free system memory.\n",
      "2023-01-04 14:18:04.979845: W tensorflow/core/framework/cpu_allocator_impl.cc:81] Allocation of 11261376 exceeds 10% of free system memory.\n"
     ]
    },
    {
     "name": "stdout",
     "output_type": "stream",
     "text": [
      "420/420 [==============================] - 16s 38ms/step - loss: 1.5987 - accuracy: 0.5158 - val_loss: 0.5936 - val_accuracy: 0.7921\n",
      "Epoch 2/20\n",
      "420/420 [==============================] - 15s 37ms/step - loss: 0.3120 - accuracy: 0.9157 - val_loss: 0.1827 - val_accuracy: 0.9498\n",
      "Epoch 3/20\n",
      "420/420 [==============================] - 15s 37ms/step - loss: 0.1142 - accuracy: 0.9682 - val_loss: 0.1598 - val_accuracy: 0.9570\n",
      "Epoch 4/20\n",
      "420/420 [==============================] - 16s 37ms/step - loss: 0.0649 - accuracy: 0.9820 - val_loss: 0.1351 - val_accuracy: 0.9660\n",
      "Epoch 5/20\n",
      "420/420 [==============================] - 15s 37ms/step - loss: 0.0414 - accuracy: 0.9880 - val_loss: 0.1463 - val_accuracy: 0.9676\n",
      "Epoch 6/20\n",
      "420/420 [==============================] - 16s 37ms/step - loss: 0.0276 - accuracy: 0.9919 - val_loss: 0.1632 - val_accuracy: 0.9687\n",
      "Epoch 7/20\n",
      "420/420 [==============================] - 15s 36ms/step - loss: 0.0196 - accuracy: 0.9942 - val_loss: 0.1638 - val_accuracy: 0.9713\n",
      "Epoch 8/20\n",
      "420/420 [==============================] - 15s 37ms/step - loss: 0.0122 - accuracy: 0.9963 - val_loss: 0.1813 - val_accuracy: 0.9715\n",
      "Epoch 9/20\n",
      "420/420 [==============================] - 15s 36ms/step - loss: 0.0103 - accuracy: 0.9970 - val_loss: 0.1904 - val_accuracy: 0.9687\n",
      "Epoch 10/20\n",
      "420/420 [==============================] - 15s 36ms/step - loss: 0.0070 - accuracy: 0.9977 - val_loss: 0.2070 - val_accuracy: 0.9713\n",
      "Epoch 11/20\n",
      "420/420 [==============================] - 15s 36ms/step - loss: 0.0055 - accuracy: 0.9983 - val_loss: 0.2405 - val_accuracy: 0.9672\n",
      "Epoch 12/20\n",
      "420/420 [==============================] - 15s 36ms/step - loss: 0.0046 - accuracy: 0.9987 - val_loss: 0.2337 - val_accuracy: 0.9703\n",
      "Epoch 13/20\n",
      "420/420 [==============================] - 15s 36ms/step - loss: 0.0042 - accuracy: 0.9987 - val_loss: 0.2541 - val_accuracy: 0.9701\n",
      "Epoch 14/20\n",
      "420/420 [==============================] - 15s 37ms/step - loss: 0.0031 - accuracy: 0.9990 - val_loss: 0.2446 - val_accuracy: 0.9693\n",
      "Epoch 15/20\n",
      "420/420 [==============================] - 17s 39ms/step - loss: 0.0044 - accuracy: 0.9987 - val_loss: 0.2671 - val_accuracy: 0.9679\n",
      "Epoch 16/20\n",
      "420/420 [==============================] - 16s 37ms/step - loss: 0.0034 - accuracy: 0.9989 - val_loss: 0.2881 - val_accuracy: 0.9697\n",
      "Epoch 17/20\n",
      "420/420 [==============================] - 15s 36ms/step - loss: 0.0030 - accuracy: 0.9991 - val_loss: 0.3002 - val_accuracy: 0.9716\n",
      "Epoch 18/20\n",
      "420/420 [==============================] - 15s 36ms/step - loss: 0.0023 - accuracy: 0.9993 - val_loss: 0.3493 - val_accuracy: 0.9684\n",
      "Epoch 19/20\n",
      "420/420 [==============================] - 15s 36ms/step - loss: 0.0018 - accuracy: 0.9995 - val_loss: 0.3095 - val_accuracy: 0.9685\n",
      "Epoch 20/20\n",
      "420/420 [==============================] - 15s 36ms/step - loss: 0.0022 - accuracy: 0.9993 - val_loss: 0.3686 - val_accuracy: 0.9700\n",
      "CPU times: user 4min 54s, sys: 3.26 s, total: 4min 57s\n",
      "Wall time: 5min 9s\n"
     ]
    }
   ],
   "source": [
    "%%time\n",
    "# 学習を実施し、結果をlogで受け取る。EarlyStoppingを使用する\n",
    "log = model.fit(X_train2, Y_train2, epochs=20, batch_size=100, verbose=True,\n",
    "                callbacks=[keras.callbacks.EarlyStopping(monitor='val_loss',\n",
    "                                                        min_delta=0, patience=100,\n",
    "                                                        verbose=1)],\n",
    "        validation_data=(X_valid2, Y_valid2))"
   ]
  },
  {
   "cell_type": "code",
   "execution_count": 19,
   "metadata": {
    "colab": {
     "base_uri": "https://localhost:8080/",
     "height": 279
    },
    "colab_type": "code",
    "id": "Zp76NioRJDlY",
    "outputId": "d2e98b53-6e98-4de1-ceb9-98ae37d8c2fc"
   },
   "outputs": [
    {
     "data": {
      "image/png": "[encoded data removed]",
      "text/plain": [
       "<Figure size 640x480 with 1 Axes>"
      ]
     },
     "metadata": {},
     "output_type": "display_data"
    }
   ],
   "source": [
    "# 学習の課程をグラフで表示する\n",
    "plt.plot(log.history['loss'], label='loss')\n",
    "plt.plot(log.history['val_loss'], label='val_loss')\n",
    "plt.legend(frameon=False)\n",
    "plt.xlabel(\"epochs\")\n",
    "plt.ylabel(\"crossentropy\")\n",
    "plt.show()"
   ]
  },
  {
   "cell_type": "markdown",
   "metadata": {
    "colab_type": "text",
    "id": "KEGrRWLZS017"
   },
   "source": [
    "## 6. テストデータによる評価"
   ]
  },
  {
   "cell_type": "code",
   "execution_count": 20,
   "metadata": {},
   "outputs": [],
   "source": [
    "# 環境により、そのままX_test2を使うとエラーになる対策(float型に変換)\n",
    "X_test2 = X_test2 * 1.0"
   ]
  },
  {
   "cell_type": "code",
   "execution_count": 21,
   "metadata": {
    "colab": {},
    "colab_type": "code",
    "id": "L6ydONrPSvLp"
   },
   "outputs": [],
   "source": [
    "# predictを使い、X_test2をもとに予測した結果をY_pred2に代入\n",
    "Y_pred2 = np.argmax(model.predict(X_test2), axis=1)\n"
   ]
  },
  {
   "cell_type": "code",
   "execution_count": 22,
   "metadata": {
    "colab": {},
    "colab_type": "code",
    "id": "t8br5NzmTBiP"
   },
   "outputs": [],
   "source": [
    "# カテゴリー変数Y_test2を復元してY_test2_に代入\n",
    "Y_test2_ = np.argmax(Y_test2, axis=1)\n"
   ]
  },
  {
   "cell_type": "code",
   "execution_count": 23,
   "metadata": {
    "colab": {
     "base_uri": "https://localhost:8080/",
     "height": 306
    },
    "colab_type": "code",
    "id": "y-ZwvjL2TGup",
    "outputId": "32f306f1-8478-4a44-d47e-4a7a6f811993"
   },
   "outputs": [
    {
     "name": "stdout",
     "output_type": "stream",
     "text": [
      "              precision    recall  f1-score   support\n",
      "\n",
      "           0       0.96      0.99      0.97       980\n",
      "           1       0.98      0.99      0.98      1135\n",
      "           2       0.97      0.97      0.97      1032\n",
      "           3       0.97      0.97      0.97      1010\n",
      "           4       0.98      0.97      0.97       982\n",
      "           5       0.99      0.95      0.97       892\n",
      "           6       0.98      0.97      0.98       958\n",
      "           7       0.96      0.97      0.96      1028\n",
      "           8       0.97      0.95      0.96       974\n",
      "           9       0.96      0.97      0.97      1009\n",
      "\n",
      "    accuracy                           0.97     10000\n",
      "   macro avg       0.97      0.97      0.97     10000\n",
      "weighted avg       0.97      0.97      0.97     10000\n",
      "\n"
     ]
    }
   ],
   "source": [
    "# classification_reportを使い、モデルの評価を実施\n",
    "from sklearn.metrics import classification_report\n",
    "\n",
    "print(classification_report(Y_test2_, Y_pred2))"
   ]
  },
  {
   "cell_type": "code",
   "execution_count": null,
   "metadata": {},
   "outputs": [],
   "source": []
  }
 ],
 "metadata": {
  "accelerator": "GPU",
  "celltoolbar": "Raw Cell Format",
  "colab": {
   "collapsed_sections": [],
   "name": "Assignment6_answered.ipynb",
   "provenance": []
  },
  "kernelspec": {
   "display_name": "Python 3 (ipykernel)",
   "language": "python",
   "name": "python3"
  },
  "language_info": {
   "codemirror_mode": {
    "name": "ipython",
    "version": 3
   },
   "file_extension": ".py",
   "mimetype": "text/x-python",
   "name": "python",
   "nbconvert_exporter": "python",
   "pygments_lexer": "ipython3",
   "version": "3.8.3"
  }
 },
 "nbformat": 4,
 "nbformat_minor": 4
}
