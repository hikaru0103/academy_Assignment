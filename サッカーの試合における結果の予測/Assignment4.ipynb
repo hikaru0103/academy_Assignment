{
 "cells": [
  {
   "cell_type": "markdown",
   "metadata": {},
   "source": [
    "# 課題4: サッカーの試合における結果の予測\n",
    "\n",
    "過去の試合データを使って、試合の結果を予測します。\n",
    "\n",
    "レッスン9で学んだ内容を踏まえ、各セルに入っているコメントを実行するコードを記入してください。"
   ]
  },
  {
   "cell_type": "markdown",
   "metadata": {},
   "source": [
    "## 1. 必要なモジュールの読み込み"
   ]
  },
  {
   "cell_type": "code",
   "execution_count": 25,
   "metadata": {},
   "outputs": [],
   "source": [
    "import pandas as pd\n",
    "import numpy as np\n",
    "from scipy import stats\n",
    "\n",
    "import matplotlib.pyplot as plt\n",
    "import seaborn as sns\n",
    "sns.set()\n",
    "\n",
    "import statsmodels.formula.api as smf\n",
    "import statsmodels.api as sm\n",
    "\n",
    "%matplotlib inline"
   ]
  },
  {
   "cell_type": "markdown",
   "metadata": {},
   "source": [
    "## 2. データの読み込み\n",
    "\n",
    "データはdatasetフォルダ直下にある\"J1_data.csv\"を使用します。\n",
    "\n",
    "このデータセットはFootball-Data.co.jp (http://www.football-data.co.uk/japan.php) から引用したものを加工しています。"
   ]
  },
  {
   "cell_type": "code",
   "execution_count": 26,
   "metadata": {},
   "outputs": [],
   "source": [
    "# データを読み込んで変数 data に格納\n",
    "data = pd.read_csv('dataset/J1_data.csv')"
   ]
  },
  {
   "cell_type": "code",
   "execution_count": 27,
   "metadata": {},
   "outputs": [
    {
     "data": {
      "text/html": [
       "<div>\n",
       "<style scoped>\n",
       "    .dataframe tbody tr th:only-of-type {\n",
       "        vertical-align: middle;\n",
       "    }\n",
       "\n",
       "    .dataframe tbody tr th {\n",
       "        vertical-align: top;\n",
       "    }\n",
       "\n",
       "    .dataframe thead th {\n",
       "        text-align: right;\n",
       "    }\n",
       "</style>\n",
       "<table border=\"1\" class=\"dataframe\">\n",
       "  <thead>\n",
       "    <tr style=\"text-align: right;\">\n",
       "      <th></th>\n",
       "      <th>Home</th>\n",
       "      <th>Away</th>\n",
       "      <th>Home_Goals</th>\n",
       "      <th>Away_Goals</th>\n",
       "    </tr>\n",
       "  </thead>\n",
       "  <tbody>\n",
       "    <tr>\n",
       "      <th>0</th>\n",
       "      <td>G-Osaka</td>\n",
       "      <td>Kobe</td>\n",
       "      <td>2</td>\n",
       "      <td>3</td>\n",
       "    </tr>\n",
       "    <tr>\n",
       "      <th>1</th>\n",
       "      <td>Hiroshima</td>\n",
       "      <td>Urawa</td>\n",
       "      <td>1</td>\n",
       "      <td>0</td>\n",
       "    </tr>\n",
       "    <tr>\n",
       "      <th>2</th>\n",
       "      <td>Nagoya</td>\n",
       "      <td>Shimizu</td>\n",
       "      <td>1</td>\n",
       "      <td>0</td>\n",
       "    </tr>\n",
       "    <tr>\n",
       "      <th>3</th>\n",
       "      <td>Sagan Tosu</td>\n",
       "      <td>C-Osaka</td>\n",
       "      <td>0</td>\n",
       "      <td>0</td>\n",
       "    </tr>\n",
       "    <tr>\n",
       "      <th>4</th>\n",
       "      <td>Sapporo</td>\n",
       "      <td>Iwata</td>\n",
       "      <td>0</td>\n",
       "      <td>0</td>\n",
       "    </tr>\n",
       "  </tbody>\n",
       "</table>\n",
       "</div>"
      ],
      "text/plain": [
       "         Home     Away  Home_Goals  Away_Goals\n",
       "0     G-Osaka     Kobe           2           3\n",
       "1   Hiroshima    Urawa           1           0\n",
       "2      Nagoya  Shimizu           1           0\n",
       "3  Sagan Tosu  C-Osaka           0           0\n",
       "4     Sapporo    Iwata           0           0"
      ]
     },
     "execution_count": 27,
     "metadata": {},
     "output_type": "execute_result"
    }
   ],
   "source": [
    "# データの最初の5行だけ表示\n",
    "data.head()"
   ]
  },
  {
   "cell_type": "code",
   "execution_count": 28,
   "metadata": {},
   "outputs": [
    {
     "name": "stdout",
     "output_type": "stream",
     "text": [
      "me_home: 1.4177570093457943\n",
      "me_away: 1.253271028037383\n"
     ]
    }
   ],
   "source": [
    "# Homeチームのゴール数の平均と, Awayチームのゴール数の平均を計算して表示\n",
    "# Homeチームのゴール平均\n",
    "me_home = np.mean(data['Home_Goals'])\n",
    "\n",
    "# Awayチームのゴール平均\n",
    "me_away = np.mean(data['Away_Goals'])\n",
    "\n",
    "#各平均\n",
    "print('me_home:', me_home)\n",
    "print('me_away:', me_away)"
   ]
  },
  {
   "cell_type": "markdown",
   "metadata": {},
   "source": [
    "## 3. データ概要の把握\n",
    "\n",
    "先ほどの「ゴールの平均」を見ると、どうやらHomeチームとAwayチームで得点に差がありそうです。ヒストグラムを作図して詳細を確認してみましょう。"
   ]
  },
  {
   "cell_type": "code",
   "execution_count": 29,
   "metadata": {},
   "outputs": [
    {
     "data": {
      "text/plain": [
       "(array([24., 35.,  0., 43.,  0.,  9.,  6.,  0.,  0.,  3.]),\n",
       " array([0. , 0.6, 1.2, 1.8, 2.4, 3. , 3.6, 4.2, 4.8, 5.4, 6. ]),\n",
       " <a list of 10 Patch objects>)"
      ]
     },
     "execution_count": 29,
     "metadata": {},
     "output_type": "execute_result"
    },
    {
     "data": {
      "image/png": "[encoded data removed]",
      "text/plain": [
       "<Figure size 640x480 with 2 Axes>"
      ]
     },
     "metadata": {},
     "output_type": "display_data"
    }
   ],
   "source": [
    "# プロットエリアを2つに分け、Urawaに関して「Homeで試合をしたときの得点のヒストグラム」と「Awayで試合をしたときの得点のヒストグラム」を表示\n",
    "# なお、ヒストグラムの表示には Matplotlib の hist を使い、figureで2つのグラフを「並べて」表示すること。\n",
    "# ※ histの詳細： https://matplotlib.org/2.2.2/api/_as_gen/matplotlib.pyplot.hist.html\n",
    "y1 = data.query('Home == \"Urawa\"')['Home_Goals']\n",
    "y2 = data.query('Away == \"Urawa\"')['Away_Goals']\n",
    "\n",
    "fig = plt.figure()\n",
    "\n",
    "u_home = fig.add_subplot(1, 2, 1)\n",
    "u_home.hist(y1)\n",
    "\n",
    "u_away = fig.add_subplot(1, 2, 2)\n",
    "u_away.hist(y2)"
   ]
  },
  {
   "cell_type": "code",
   "execution_count": 30,
   "metadata": {},
   "outputs": [
    {
     "data": {
      "text/plain": [
       "(array([26.,  0., 38.,  0., 25.,  0.,  9.,  0.,  3.,  1.]),\n",
       " array([0. , 0.5, 1. , 1.5, 2. , 2.5, 3. , 3.5, 4. , 4.5, 5. ]),\n",
       " <a list of 10 Patch objects>)"
      ]
     },
     "execution_count": 30,
     "metadata": {},
     "output_type": "execute_result"
    },
    {
     "data": {
      "image/png": "[encoded data removed]",
      "text/plain": [
       "<Figure size 640x480 with 2 Axes>"
      ]
     },
     "metadata": {},
     "output_type": "display_data"
    }
   ],
   "source": [
    "# もう1つ、どこか違うチームをピックアップして、同様に\n",
    "# 「Homeで試合をしたときの得点のヒストグラム」と「Awayで試合をしたときの得点のヒストグラム」を表示\n",
    "y1 = data.query('Home == \"Kobe\"')['Home_Goals']\n",
    "y2 = data.query('Away == \"Kobe\"')['Away_Goals']\n",
    "\n",
    "fig = plt.figure()\n",
    "\n",
    "k_home = fig.add_subplot(1, 2, 1)\n",
    "k_home.hist(y1)\n",
    "\n",
    "k_away = fig.add_subplot(1, 2, 2)\n",
    "k_away.hist(y2)"
   ]
  },
  {
   "cell_type": "markdown",
   "metadata": {},
   "source": [
    "## 4. モデルの作成\n",
    "\n",
    "ここでは、応答変数をHome_Goalsとして、2通りのモデルを作成し、AICを確認してみましょう。"
   ]
  },
  {
   "cell_type": "code",
   "execution_count": 31,
   "metadata": {},
   "outputs": [
    {
     "name": "stdout",
     "output_type": "stream",
     "text": [
      "Model_1: 6448.858\n"
     ]
    }
   ],
   "source": [
    "# 説明変数：Away_Goals、HomeとAwayを指定し、ゴール数の予測に適切な確率分布で一般化線形モデルを構築し、AICを算出\n",
    "model_1 = smf.glm('Home_Goals ~ Away_Goals+Home+Away', data=data, family=sm.families.Poisson()).fit()\n",
    "print('Model_1:',model_1.aic.round(3))"
   ]
  },
  {
   "cell_type": "code",
   "execution_count": 32,
   "metadata": {},
   "outputs": [
    {
     "name": "stdout",
     "output_type": "stream",
     "text": [
      "Model_2: 6472.639\n"
     ]
    }
   ],
   "source": [
    "# 説明変数：HomeとAway_Goalsを指定し、ゴール数の予測に適切な確率分布で一般化線形モデルを構築し、AICを算出\n",
    "model_2 = smf.glm('Home_Goals ~ Home+Away_Goals', data=data, family=sm.families.Poisson()).fit()\n",
    "print('Model_2:',model_2.aic.round(3))"
   ]
  },
  {
   "cell_type": "code",
   "execution_count": 33,
   "metadata": {},
   "outputs": [
    {
     "data": {
      "text/html": [
       "<table class=\"simpletable\">\n",
       "<caption>Generalized Linear Model Regression Results</caption>\n",
       "<tr>\n",
       "  <th>Dep. Variable:</th>      <td>Home_Goals</td>    <th>  No. Observations:  </th>  <td>  2140</td> \n",
       "</tr>\n",
       "<tr>\n",
       "  <th>Model:</th>                  <td>GLM</td>       <th>  Df Residuals:      </th>  <td>  2087</td> \n",
       "</tr>\n",
       "<tr>\n",
       "  <th>Model Family:</th>         <td>Poisson</td>     <th>  Df Model:          </th>  <td>    52</td> \n",
       "</tr>\n",
       "<tr>\n",
       "  <th>Link Function:</th>          <td>log</td>       <th>  Scale:             </th> <td>  1.0000</td>\n",
       "</tr>\n",
       "<tr>\n",
       "  <th>Method:</th>                <td>IRLS</td>       <th>  Log-Likelihood:    </th> <td> -3171.4</td>\n",
       "</tr>\n",
       "<tr>\n",
       "  <th>Date:</th>            <td>Wed, 01 Mar 2023</td> <th>  Deviance:          </th> <td>  2433.7</td>\n",
       "</tr>\n",
       "<tr>\n",
       "  <th>Time:</th>                <td>12:55:55</td>     <th>  Pearson chi2:      </th> <td>2.13e+03</td>\n",
       "</tr>\n",
       "<tr>\n",
       "  <th>No. Iterations:</th>         <td>20</td>        <th>                     </th>     <td> </td>   \n",
       "</tr>\n",
       "<tr>\n",
       "  <th>Covariance Type:</th>     <td>nonrobust</td>    <th>                     </th>     <td> </td>   \n",
       "</tr>\n",
       "</table>\n",
       "<table class=\"simpletable\">\n",
       "<tr>\n",
       "              <td></td>                 <th>coef</th>     <th>std err</th>      <th>z</th>      <th>P>|z|</th>  <th>[0.025</th>    <th>0.975]</th>  \n",
       "</tr>\n",
       "<tr>\n",
       "  <th>Intercept</th>                 <td>   -0.0668</td> <td>    0.132</td> <td>   -0.505</td> <td> 0.614</td> <td>   -0.326</td> <td>    0.193</td>\n",
       "</tr>\n",
       "<tr>\n",
       "  <th>Home[T.Avispa Fukuoka]</th>    <td>   -0.0592</td> <td>    0.269</td> <td>   -0.220</td> <td> 0.826</td> <td>   -0.587</td> <td>    0.469</td>\n",
       "</tr>\n",
       "<tr>\n",
       "  <th>Home[T.C-Osaka]</th>           <td>    0.4320</td> <td>    0.133</td> <td>    3.252</td> <td> 0.001</td> <td>    0.172</td> <td>    0.692</td>\n",
       "</tr>\n",
       "<tr>\n",
       "  <th>Home[T.FC Tokyo]</th>          <td>    0.4069</td> <td>    0.125</td> <td>    3.256</td> <td> 0.001</td> <td>    0.162</td> <td>    0.652</td>\n",
       "</tr>\n",
       "<tr>\n",
       "  <th>Home[T.G-Osaka]</th>           <td>    0.5258</td> <td>    0.126</td> <td>    4.182</td> <td> 0.000</td> <td>    0.279</td> <td>    0.772</td>\n",
       "</tr>\n",
       "<tr>\n",
       "  <th>Home[T.Hiroshima]</th>         <td>    0.4595</td> <td>    0.124</td> <td>    3.716</td> <td> 0.000</td> <td>    0.217</td> <td>    0.702</td>\n",
       "</tr>\n",
       "<tr>\n",
       "  <th>Home[T.Iwata]</th>             <td>    0.3488</td> <td>    0.135</td> <td>    2.579</td> <td> 0.010</td> <td>    0.084</td> <td>    0.614</td>\n",
       "</tr>\n",
       "<tr>\n",
       "  <th>Home[T.Kashima]</th>           <td>    0.4952</td> <td>    0.123</td> <td>    4.020</td> <td> 0.000</td> <td>    0.254</td> <td>    0.737</td>\n",
       "</tr>\n",
       "<tr>\n",
       "  <th>Home[T.Kashiwa]</th>           <td>    0.4445</td> <td>    0.124</td> <td>    3.581</td> <td> 0.000</td> <td>    0.201</td> <td>    0.688</td>\n",
       "</tr>\n",
       "<tr>\n",
       "  <th>Home[T.Kawasaki Frontale]</th> <td>    0.7168</td> <td>    0.119</td> <td>    6.041</td> <td> 0.000</td> <td>    0.484</td> <td>    0.949</td>\n",
       "</tr>\n",
       "<tr>\n",
       "  <th>Home[T.Kobe]</th>              <td>    0.3414</td> <td>    0.131</td> <td>    2.611</td> <td> 0.009</td> <td>    0.085</td> <td>    0.598</td>\n",
       "</tr>\n",
       "<tr>\n",
       "  <th>Home[T.Kofu]</th>              <td>   -0.1905</td> <td>    0.156</td> <td>   -1.218</td> <td> 0.223</td> <td>   -0.497</td> <td>    0.116</td>\n",
       "</tr>\n",
       "<tr>\n",
       "  <th>Home[T.Montedio Yamagata]</th> <td>   -0.1853</td> <td>    0.286</td> <td>   -0.649</td> <td> 0.517</td> <td>   -0.745</td> <td>    0.375</td>\n",
       "</tr>\n",
       "<tr>\n",
       "  <th>Home[T.Nagoya]</th>            <td>    0.3949</td> <td>    0.129</td> <td>    3.055</td> <td> 0.002</td> <td>    0.142</td> <td>    0.648</td>\n",
       "</tr>\n",
       "<tr>\n",
       "  <th>Home[T.Oita]</th>              <td>   -0.1822</td> <td>    0.286</td> <td>   -0.638</td> <td> 0.523</td> <td>   -0.742</td> <td>    0.377</td>\n",
       "</tr>\n",
       "<tr>\n",
       "  <th>Home[T.Omiya Ardija]</th>      <td>    0.1612</td> <td>    0.142</td> <td>    1.138</td> <td> 0.255</td> <td>   -0.116</td> <td>    0.439</td>\n",
       "</tr>\n",
       "<tr>\n",
       "  <th>Home[T.Sagan Tosu]</th>        <td>    0.2572</td> <td>    0.129</td> <td>    1.994</td> <td> 0.046</td> <td>    0.004</td> <td>    0.510</td>\n",
       "</tr>\n",
       "<tr>\n",
       "  <th>Home[T.Sapporo]</th>           <td>    0.2288</td> <td>    0.162</td> <td>    1.408</td> <td> 0.159</td> <td>   -0.090</td> <td>    0.547</td>\n",
       "</tr>\n",
       "<tr>\n",
       "  <th>Home[T.Shimizu]</th>           <td>    0.2962</td> <td>    0.131</td> <td>    2.257</td> <td> 0.024</td> <td>    0.039</td> <td>    0.554</td>\n",
       "</tr>\n",
       "<tr>\n",
       "  <th>Home[T.Shonan]</th>            <td>   -0.0340</td> <td>    0.159</td> <td>   -0.213</td> <td> 0.831</td> <td>   -0.346</td> <td>    0.278</td>\n",
       "</tr>\n",
       "<tr>\n",
       "  <th>Home[T.Tokushima]</th>         <td>   -1.2166</td> <td>    0.458</td> <td>   -2.654</td> <td> 0.008</td> <td>   -2.115</td> <td>   -0.318</td>\n",
       "</tr>\n",
       "<tr>\n",
       "  <th>Home[T.Urawa]</th>             <td>    0.6208</td> <td>    0.120</td> <td>    5.155</td> <td> 0.000</td> <td>    0.385</td> <td>    0.857</td>\n",
       "</tr>\n",
       "<tr>\n",
       "  <th>Home[T.V-Varen Nagasaki]</th>  <td>    0.1154</td> <td>    0.256</td> <td>    0.450</td> <td> 0.652</td> <td>   -0.387</td> <td>    0.617</td>\n",
       "</tr>\n",
       "<tr>\n",
       "  <th>Home[T.Vegalta Sendai]</th>    <td>    0.4373</td> <td>    0.124</td> <td>    3.526</td> <td> 0.000</td> <td>    0.194</td> <td>    0.680</td>\n",
       "</tr>\n",
       "<tr>\n",
       "  <th>Home[T.Yamaga]</th>            <td>    0.1723</td> <td>    0.245</td> <td>    0.702</td> <td> 0.482</td> <td>   -0.308</td> <td>    0.653</td>\n",
       "</tr>\n",
       "<tr>\n",
       "  <th>Home[T.Yokohama M.]</th>       <td>    0.3622</td> <td>    0.126</td> <td>    2.875</td> <td> 0.004</td> <td>    0.115</td> <td>    0.609</td>\n",
       "</tr>\n",
       "<tr>\n",
       "  <th>Away[T.Avispa Fukuoka]</th>    <td>    0.3390</td> <td>    0.193</td> <td>    1.755</td> <td> 0.079</td> <td>   -0.040</td> <td>    0.718</td>\n",
       "</tr>\n",
       "<tr>\n",
       "  <th>Away[T.C-Osaka]</th>           <td>   -0.0896</td> <td>    0.127</td> <td>   -0.707</td> <td> 0.480</td> <td>   -0.338</td> <td>    0.159</td>\n",
       "</tr>\n",
       "<tr>\n",
       "  <th>Away[T.FC Tokyo]</th>          <td>   -0.1706</td> <td>    0.119</td> <td>   -1.437</td> <td> 0.151</td> <td>   -0.403</td> <td>    0.062</td>\n",
       "</tr>\n",
       "<tr>\n",
       "  <th>Away[T.G-Osaka]</th>           <td>   -0.0014</td> <td>    0.117</td> <td>   -0.012</td> <td> 0.991</td> <td>   -0.232</td> <td>    0.229</td>\n",
       "</tr>\n",
       "<tr>\n",
       "  <th>Away[T.Hiroshima]</th>         <td>   -0.2424</td> <td>    0.120</td> <td>   -2.015</td> <td> 0.044</td> <td>   -0.478</td> <td>   -0.007</td>\n",
       "</tr>\n",
       "<tr>\n",
       "  <th>Away[T.Iwata]</th>             <td>   -0.0068</td> <td>    0.124</td> <td>   -0.055</td> <td> 0.956</td> <td>   -0.250</td> <td>    0.236</td>\n",
       "</tr>\n",
       "<tr>\n",
       "  <th>Away[T.Kashima]</th>           <td>   -0.0995</td> <td>    0.116</td> <td>   -0.861</td> <td> 0.389</td> <td>   -0.326</td> <td>    0.127</td>\n",
       "</tr>\n",
       "<tr>\n",
       "  <th>Away[T.Kashiwa]</th>           <td>   -0.0171</td> <td>    0.114</td> <td>   -0.150</td> <td> 0.881</td> <td>   -0.240</td> <td>    0.206</td>\n",
       "</tr>\n",
       "<tr>\n",
       "  <th>Away[T.Kawasaki Frontale]</th> <td>   -0.1215</td> <td>    0.117</td> <td>   -1.035</td> <td> 0.301</td> <td>   -0.352</td> <td>    0.109</td>\n",
       "</tr>\n",
       "<tr>\n",
       "  <th>Away[T.Kobe]</th>              <td>    0.0783</td> <td>    0.115</td> <td>    0.680</td> <td> 0.497</td> <td>   -0.148</td> <td>    0.304</td>\n",
       "</tr>\n",
       "<tr>\n",
       "  <th>Away[T.Kofu]</th>              <td>   -0.0274</td> <td>    0.125</td> <td>   -0.220</td> <td> 0.826</td> <td>   -0.272</td> <td>    0.217</td>\n",
       "</tr>\n",
       "<tr>\n",
       "  <th>Away[T.Montedio Yamagata]</th> <td>    0.1798</td> <td>    0.207</td> <td>    0.869</td> <td> 0.385</td> <td>   -0.226</td> <td>    0.586</td>\n",
       "</tr>\n",
       "<tr>\n",
       "  <th>Away[T.Nagoya]</th>            <td>    0.1460</td> <td>    0.114</td> <td>    1.284</td> <td> 0.199</td> <td>   -0.077</td> <td>    0.369</td>\n",
       "</tr>\n",
       "<tr>\n",
       "  <th>Away[T.Oita]</th>              <td>    0.4151</td> <td>    0.186</td> <td>    2.226</td> <td> 0.026</td> <td>    0.050</td> <td>    0.780</td>\n",
       "</tr>\n",
       "<tr>\n",
       "  <th>Away[T.Omiya Ardija]</th>      <td>    0.0547</td> <td>    0.121</td> <td>    0.451</td> <td> 0.652</td> <td>   -0.183</td> <td>    0.293</td>\n",
       "</tr>\n",
       "<tr>\n",
       "  <th>Away[T.Sagan Tosu]</th>        <td>    0.0766</td> <td>    0.112</td> <td>    0.686</td> <td> 0.493</td> <td>   -0.142</td> <td>    0.295</td>\n",
       "</tr>\n",
       "<tr>\n",
       "  <th>Away[T.Sapporo]</th>           <td>    0.4025</td> <td>    0.126</td> <td>    3.186</td> <td> 0.001</td> <td>    0.155</td> <td>    0.650</td>\n",
       "</tr>\n",
       "<tr>\n",
       "  <th>Away[T.Shimizu]</th>           <td>    0.0407</td> <td>    0.117</td> <td>    0.349</td> <td> 0.727</td> <td>   -0.188</td> <td>    0.269</td>\n",
       "</tr>\n",
       "<tr>\n",
       "  <th>Away[T.Shonan]</th>            <td>    0.1486</td> <td>    0.126</td> <td>    1.177</td> <td> 0.239</td> <td>   -0.099</td> <td>    0.396</td>\n",
       "</tr>\n",
       "<tr>\n",
       "  <th>Away[T.Tokushima]</th>         <td>    0.4862</td> <td>    0.181</td> <td>    2.691</td> <td> 0.007</td> <td>    0.132</td> <td>    0.840</td>\n",
       "</tr>\n",
       "<tr>\n",
       "  <th>Away[T.Urawa]</th>             <td>   -0.0515</td> <td>    0.115</td> <td>   -0.448</td> <td> 0.654</td> <td>   -0.277</td> <td>    0.174</td>\n",
       "</tr>\n",
       "<tr>\n",
       "  <th>Away[T.V-Varen Nagasaki]</th>  <td>    0.2129</td> <td>    0.198</td> <td>    1.075</td> <td> 0.282</td> <td>   -0.175</td> <td>    0.601</td>\n",
       "</tr>\n",
       "<tr>\n",
       "  <th>Away[T.Vegalta Sendai]</th>    <td>   -0.0322</td> <td>    0.115</td> <td>   -0.281</td> <td> 0.779</td> <td>   -0.257</td> <td>    0.193</td>\n",
       "</tr>\n",
       "<tr>\n",
       "  <th>Away[T.Verdy]</th>             <td>  -20.4854</td> <td> 1.59e+04</td> <td>   -0.001</td> <td> 0.999</td> <td>-3.11e+04</td> <td> 3.11e+04</td>\n",
       "</tr>\n",
       "<tr>\n",
       "  <th>Away[T.Yamaga]</th>            <td>    0.1930</td> <td>    0.207</td> <td>    0.933</td> <td> 0.351</td> <td>   -0.213</td> <td>    0.598</td>\n",
       "</tr>\n",
       "<tr>\n",
       "  <th>Away[T.Yokohama M.]</th>       <td>   -0.2990</td> <td>    0.122</td> <td>   -2.450</td> <td> 0.014</td> <td>   -0.538</td> <td>   -0.060</td>\n",
       "</tr>\n",
       "<tr>\n",
       "  <th>Away_Goals</th>                <td>    0.0469</td> <td>    0.017</td> <td>    2.831</td> <td> 0.005</td> <td>    0.014</td> <td>    0.079</td>\n",
       "</tr>\n",
       "</table>"
      ],
      "text/plain": [
       "<class 'statsmodels.iolib.summary.Summary'>\n",
       "\"\"\"\n",
       "                 Generalized Linear Model Regression Results                  \n",
       "==============================================================================\n",
       "Dep. Variable:             Home_Goals   No. Observations:                 2140\n",
       "Model:                            GLM   Df Residuals:                     2087\n",
       "Model Family:                 Poisson   Df Model:                           52\n",
       "Link Function:                    log   Scale:                          1.0000\n",
       "Method:                          IRLS   Log-Likelihood:                -3171.4\n",
       "Date:                Wed, 01 Mar 2023   Deviance:                       2433.7\n",
       "Time:                        12:55:55   Pearson chi2:                 2.13e+03\n",
       "No. Iterations:                    20                                         \n",
       "Covariance Type:            nonrobust                                         \n",
       "=============================================================================================\n",
       "                                coef    std err          z      P>|z|      [0.025      0.975]\n",
       "---------------------------------------------------------------------------------------------\n",
       "Intercept                    -0.0668      0.132     -0.505      0.614      -0.326       0.193\n",
       "Home[T.Avispa Fukuoka]       -0.0592      0.269     -0.220      0.826      -0.587       0.469\n",
       "Home[T.C-Osaka]               0.4320      0.133      3.252      0.001       0.172       0.692\n",
       "Home[T.FC Tokyo]              0.4069      0.125      3.256      0.001       0.162       0.652\n",
       "Home[T.G-Osaka]               0.5258      0.126      4.182      0.000       0.279       0.772\n",
       "Home[T.Hiroshima]             0.4595      0.124      3.716      0.000       0.217       0.702\n",
       "Home[T.Iwata]                 0.3488      0.135      2.579      0.010       0.084       0.614\n",
       "Home[T.Kashima]               0.4952      0.123      4.020      0.000       0.254       0.737\n",
       "Home[T.Kashiwa]               0.4445      0.124      3.581      0.000       0.201       0.688\n",
       "Home[T.Kawasaki Frontale]     0.7168      0.119      6.041      0.000       0.484       0.949\n",
       "Home[T.Kobe]                  0.3414      0.131      2.611      0.009       0.085       0.598\n",
       "Home[T.Kofu]                 -0.1905      0.156     -1.218      0.223      -0.497       0.116\n",
       "Home[T.Montedio Yamagata]    -0.1853      0.286     -0.649      0.517      -0.745       0.375\n",
       "Home[T.Nagoya]                0.3949      0.129      3.055      0.002       0.142       0.648\n",
       "Home[T.Oita]                 -0.1822      0.286     -0.638      0.523      -0.742       0.377\n",
       "Home[T.Omiya Ardija]          0.1612      0.142      1.138      0.255      -0.116       0.439\n",
       "Home[T.Sagan Tosu]            0.2572      0.129      1.994      0.046       0.004       0.510\n",
       "Home[T.Sapporo]               0.2288      0.162      1.408      0.159      -0.090       0.547\n",
       "Home[T.Shimizu]               0.2962      0.131      2.257      0.024       0.039       0.554\n",
       "Home[T.Shonan]               -0.0340      0.159     -0.213      0.831      -0.346       0.278\n",
       "Home[T.Tokushima]            -1.2166      0.458     -2.654      0.008      -2.115      -0.318\n",
       "Home[T.Urawa]                 0.6208      0.120      5.155      0.000       0.385       0.857\n",
       "Home[T.V-Varen Nagasaki]      0.1154      0.256      0.450      0.652      -0.387       0.617\n",
       "Home[T.Vegalta Sendai]        0.4373      0.124      3.526      0.000       0.194       0.680\n",
       "Home[T.Yamaga]                0.1723      0.245      0.702      0.482      -0.308       0.653\n",
       "Home[T.Yokohama M.]           0.3622      0.126      2.875      0.004       0.115       0.609\n",
       "Away[T.Avispa Fukuoka]        0.3390      0.193      1.755      0.079      -0.040       0.718\n",
       "Away[T.C-Osaka]              -0.0896      0.127     -0.707      0.480      -0.338       0.159\n",
       "Away[T.FC Tokyo]             -0.1706      0.119     -1.437      0.151      -0.403       0.062\n",
       "Away[T.G-Osaka]              -0.0014      0.117     -0.012      0.991      -0.232       0.229\n",
       "Away[T.Hiroshima]            -0.2424      0.120     -2.015      0.044      -0.478      -0.007\n",
       "Away[T.Iwata]                -0.0068      0.124     -0.055      0.956      -0.250       0.236\n",
       "Away[T.Kashima]              -0.0995      0.116     -0.861      0.389      -0.326       0.127\n",
       "Away[T.Kashiwa]              -0.0171      0.114     -0.150      0.881      -0.240       0.206\n",
       "Away[T.Kawasaki Frontale]    -0.1215      0.117     -1.035      0.301      -0.352       0.109\n",
       "Away[T.Kobe]                  0.0783      0.115      0.680      0.497      -0.148       0.304\n",
       "Away[T.Kofu]                 -0.0274      0.125     -0.220      0.826      -0.272       0.217\n",
       "Away[T.Montedio Yamagata]     0.1798      0.207      0.869      0.385      -0.226       0.586\n",
       "Away[T.Nagoya]                0.1460      0.114      1.284      0.199      -0.077       0.369\n",
       "Away[T.Oita]                  0.4151      0.186      2.226      0.026       0.050       0.780\n",
       "Away[T.Omiya Ardija]          0.0547      0.121      0.451      0.652      -0.183       0.293\n",
       "Away[T.Sagan Tosu]            0.0766      0.112      0.686      0.493      -0.142       0.295\n",
       "Away[T.Sapporo]               0.4025      0.126      3.186      0.001       0.155       0.650\n",
       "Away[T.Shimizu]               0.0407      0.117      0.349      0.727      -0.188       0.269\n",
       "Away[T.Shonan]                0.1486      0.126      1.177      0.239      -0.099       0.396\n",
       "Away[T.Tokushima]             0.4862      0.181      2.691      0.007       0.132       0.840\n",
       "Away[T.Urawa]                -0.0515      0.115     -0.448      0.654      -0.277       0.174\n",
       "Away[T.V-Varen Nagasaki]      0.2129      0.198      1.075      0.282      -0.175       0.601\n",
       "Away[T.Vegalta Sendai]       -0.0322      0.115     -0.281      0.779      -0.257       0.193\n",
       "Away[T.Verdy]               -20.4854   1.59e+04     -0.001      0.999   -3.11e+04    3.11e+04\n",
       "Away[T.Yamaga]                0.1930      0.207      0.933      0.351      -0.213       0.598\n",
       "Away[T.Yokohama M.]          -0.2990      0.122     -2.450      0.014      -0.538      -0.060\n",
       "Away_Goals                    0.0469      0.017      2.831      0.005       0.014       0.079\n",
       "=============================================================================================\n",
       "\"\"\""
      ]
     },
     "execution_count": 33,
     "metadata": {},
     "output_type": "execute_result"
    }
   ],
   "source": [
    "# 上記2つのモデルを比較し、選択すべき最適なモデルについて詳細を表示\n",
    "model_1.summary()"
   ]
  },
  {
   "cell_type": "code",
   "execution_count": 34,
   "metadata": {},
   "outputs": [
    {
     "data": {
      "text/plain": [
       "1.5753250551853537"
      ]
     },
     "execution_count": 34,
     "metadata": {},
     "output_type": "execute_result"
    }
   ],
   "source": [
    "# Home: Urawa, Away: KashimaでAwayのチームが0得点だった場合のHomeの得点を予測\n",
    "# なお、予測した得点は変数 pred1 に格納し、pred1の得点だけ（ pred1[0] ）を表示すること。\n",
    "sample_1 = pd.DataFrame({'Away_Goals':0, 'Home':'Urawa', 'Away':'Kashima'}, index=[0])\n",
    "pred1 = model_1.predict(sample_1)\n",
    "pred1[0]"
   ]
  },
  {
   "cell_type": "code",
   "execution_count": 35,
   "metadata": {
    "scrolled": true
   },
   "outputs": [
    {
     "data": {
      "text/plain": [
       "1.7301290921170647"
      ]
     },
     "execution_count": 35,
     "metadata": {},
     "output_type": "execute_result"
    }
   ],
   "source": [
    "# Home: Urawa, Away: KashimaでAwayのチームが2得点だった場合のHomeの得点を予測\n",
    "# なお、予測した得点は変数 pred2 に格納し、pred2の得点だけ（ pred2[0] ）を表示すること。\n",
    "sample_2 = pd.DataFrame({'Away_Goals':2, 'Home':'Urawa', 'Away':'Kashima'}, index=[0])\n",
    "pred2 = model_1.predict(sample_2)\n",
    "pred2[0]"
   ]
  },
  {
   "cell_type": "markdown",
   "metadata": {},
   "source": [
    "## 5. シミュレーション\n",
    "\n",
    "ここまでの内容で、Homeの点数を予測するモデルが作成できました。\n",
    "しかし、このままでは「複数回の試合を行った際に、どのチームの勝率が高くなるか」を明言できません。\n",
    "\n",
    "\n",
    "そのため、前章で作成したモデルを用い、複数回の試合をシミュレーションし、勝率を計算してみましょう。\n",
    "\n",
    "試合をするチームは、引き続き **HomeがUrawa、KashimaがAway**の場合を想定します。\n",
    "\n",
    "Awayの得点は、Awayの得点の平均をlambda（λ：強度）とするポアソン分布に従うことがわかっています。\n",
    "\n",
    "このことを利用し、ポアソン分布から乱数を発生させ、Awayの得点を求めましょう。\n",
    "\n",
    "そして、Awayの得点を用いて、Homeの得点を予測してみましょう。"
   ]
  },
  {
   "cell_type": "code",
   "execution_count": 36,
   "metadata": {},
   "outputs": [
    {
     "name": "stdout",
     "output_type": "stream",
     "text": [
      "1.6363636363636365\n",
      "[2 1 0 0 1 2 1 0 2 0 1 3 1 0 0 1 3 2 0 3 1 2 1 0 1 1 0 1 2 2 0 2 3 0 2 3 3\n",
      " 2 3 3 2 0 2 3 0 3 0 2 4 0 0 0 2 2 1 2 1 4 0 0 0 0 0 1 1 0 2 1 1 3 2 0 0 2\n",
      " 2 2 1 0 2 1 2 3 0 4 1 5 2 4 0 0 1 2 0 1 3 4 2 1 3 2]\n"
     ]
    }
   ],
   "source": [
    "# 今回はKashimaがAwayですので、Kashimaの　Awayでの得点平均を計算\n",
    "y3 = data.query('Away == \"Kashima\"')['Away_Goals']\n",
    "me_away_kashima = np.mean(y3)\n",
    "print(me_away_kashima)\n",
    "# 上記で求めた平均=lambda(強度：λ)としたポアソン分布から乱数を100個発生させる。np.random.poisson()を使うこと。\n",
    "np.random.seed(1)\n",
    "rvs_poisson = np.random.poisson(lam=me_away_kashima, size=100)\n",
    "print(rvs_poisson)\n",
    "# 参考：https://techacademy.jp/my/datascience/data-science3/simulation#chapter-5"
   ]
  },
  {
   "cell_type": "code",
   "execution_count": 50,
   "metadata": {},
   "outputs": [
    {
     "name": "stdout",
     "output_type": "stream",
     "text": [
      "[1.7301290921170647, 1.6509135978351808, 1.5753250551853537, 1.5753250551853537, 1.6509135978351808, 1.7301290921170647, 1.6509135978351808, 1.5753250551853537, 1.7301290921170647, 1.5753250551853537, 1.6509135978351808, 1.8131455694077214, 1.6509135978351808, 1.5753250551853537, 1.5753250551853537, 1.6509135978351808, 1.8131455694077214, 1.7301290921170647, 1.5753250551853537, 1.8131455694077214, 1.6509135978351808, 1.7301290921170647, 1.6509135978351808, 1.5753250551853537, 1.6509135978351808, 1.6509135978351808, 1.5753250551853537, 1.6509135978351808, 1.7301290921170647, 1.7301290921170647, 1.5753250551853537, 1.7301290921170647, 1.8131455694077214, 1.5753250551853537, 1.7301290921170647, 1.8131455694077214, 1.8131455694077214, 1.7301290921170647, 1.8131455694077214, 1.8131455694077214, 1.7301290921170647, 1.5753250551853537, 1.7301290921170647, 1.8131455694077214, 1.5753250551853537, 1.8131455694077214, 1.5753250551853537, 1.7301290921170647, 1.9001454116005412, 1.5753250551853537, 1.5753250551853537, 1.5753250551853537, 1.7301290921170647, 1.7301290921170647, 1.6509135978351808, 1.7301290921170647, 1.6509135978351808, 1.9001454116005412, 1.5753250551853537, 1.5753250551853537, 1.5753250551853537, 1.5753250551853537, 1.5753250551853537, 1.6509135978351808, 1.6509135978351808, 1.5753250551853537, 1.7301290921170647, 1.6509135978351808, 1.6509135978351808, 1.8131455694077214, 1.7301290921170647, 1.5753250551853537, 1.5753250551853537, 1.7301290921170647, 1.7301290921170647, 1.7301290921170647, 1.6509135978351808, 1.5753250551853537, 1.7301290921170647, 1.6509135978351808, 1.7301290921170647, 1.8131455694077214, 1.5753250551853537, 1.9001454116005412, 1.6509135978351808, 1.9913197517869488, 1.7301290921170647, 1.9001454116005412, 1.5753250551853537, 1.5753250551853537, 1.6509135978351808, 1.7301290921170647, 1.5753250551853537, 1.6509135978351808, 1.8131455694077214, 1.9001454116005412, 1.7301290921170647, 1.6509135978351808, 1.8131455694077214, 1.7301290921170647]\n"
     ]
    }
   ],
   "source": [
    "#「Awayの得点」と「4. モデルの作成 で選択した最適なモデル」を使用し、Homeの得点を予測\n",
    "# 仕様1：今回はAwayの得点が100個あるため、forなどの繰り返しにより 100回の予測を行うこと\n",
    "# 仕様2：予測した100個のHomeの得点をリストに格納すること（次セルで勝率の算出に使用するため）\n",
    "score_home = []\n",
    "\n",
    "for a in rvs_poisson:\n",
    "    sample_3 = pd.DataFrame({'Away_Goals':a, 'Home':'Urawa', 'Away':'Kashima'}, index=[0])\n",
    "    pred_home = model_1.predict(sample_3)\n",
    "    score_home.append(pred_home[0])\n",
    "print(score_home)"
   ]
  },
  {
   "cell_type": "code",
   "execution_count": 53,
   "metadata": {},
   "outputs": [
    {
     "name": "stdout",
     "output_type": "stream",
     "text": [
      "Urawaが勝つ確率: 53 %\n"
     ]
    }
   ],
   "source": [
    "# これまでのセルで求めた「Homeの得点」と「Awayの得点」を使用し、Urawaが勝つ確率 を表示\n",
    "# HomeとAwayの得点を比較し、Homeの得点が上回っているデータの個数から、確率を計算すること\n",
    "vic = 0\n",
    "for i in range(100):\n",
    "    if score_home[i] > rvs_poisson[i]:\n",
    "        vic += 1\n",
    "            \n",
    "print(\"Urawaが勝つ確率:\", vic1, \"%\")"
   ]
  },
  {
   "cell_type": "code",
   "execution_count": null,
   "metadata": {},
   "outputs": [],
   "source": []
  },
  {
   "cell_type": "code",
   "execution_count": null,
   "metadata": {},
   "outputs": [],
   "source": []
  },
  {
   "cell_type": "raw",
   "metadata": {},
   "source": [
    "score_home = []\n",
    "\n",
    "for i in rvs_poisson:\n",
    "    sample_3 = pd.DataFrame({'Away_Goals':rvs_poisson, 'Home':'Urawa', 'Away':'Kashima'})\n",
    "    pred_home = model_1.predict(sample_3)\n",
    "    np.random.seed(1)\n",
    "    score = np.random.poisson(lam=pred_home, size=100)\n",
    "    score_home.append(score)\n",
    "score_home"
   ]
  },
  {
   "cell_type": "raw",
   "metadata": {},
   "source": [
    "# Homeの得点が上回っているデータの個数の初期値\n",
    "vic1 = 0\n",
    "# 100回分の得点シミュレーション結果を比較\n",
    "for i, j in zip(score_home, rvs_poisson):\n",
    "    # Homeの得点がAwayの得点を上回っている場合\n",
    "    if i > j:\n",
    "        vic1 += 1\n",
    "print(vic1)"
   ]
  },
  {
   "cell_type": "code",
   "execution_count": null,
   "metadata": {},
   "outputs": [],
   "source": []
  }
 ],
 "metadata": {
  "kernelspec": {
   "display_name": "Python 3 (ipykernel)",
   "language": "python",
   "name": "python3"
  },
  "language_info": {
   "codemirror_mode": {
    "name": "ipython",
    "version": 3
   },
   "file_extension": ".py",
   "mimetype": "text/x-python",
   "name": "python",
   "nbconvert_exporter": "python",
   "pygments_lexer": "ipython3",
   "version": "3.8.3"
  }
 },
 "nbformat": 4,
 "nbformat_minor": 4
}
